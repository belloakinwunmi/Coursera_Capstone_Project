{
 "cells": [
  {
   "cell_type": "markdown",
   "metadata": {},
   "source": [
    "## Applied Data Science Capstone Assignment 2 :Segmenting and Clustering Neighborhoods in Toronto"
   ]
  },
  {
   "cell_type": "markdown",
   "metadata": {},
   "source": [
    "### For this assignment, you will be required to explore and cluster the neighborhoods in Toronto.\n",
    "\n",
    "1. Start by creating a new Notebook for this assignment.\n",
    "2. Use the Notebook to build the code to scrape the following Wikipedia page, https://en.wikipedia.org/wiki/List_of_postal_codes_of_Canada:_M, in order to obtain the data that is in the table of postal codes and to transform the data into a pandas dataframe like the one shown below:"
   ]
  },
  {
   "cell_type": "code",
   "execution_count": 2,
   "metadata": {
    "ExecuteTime": {
     "end_time": "2020-04-28T09:26:08.600912Z",
     "start_time": "2020-04-28T09:26:07.395113Z"
    }
   },
   "outputs": [],
   "source": [
    "#importing the necessary libraries\n",
    "import pandas as pd"
   ]
  },
  {
   "cell_type": "markdown",
   "metadata": {
    "ExecuteTime": {
     "end_time": "2020-04-28T08:17:57.234340Z",
     "start_time": "2020-04-28T08:17:55.799236Z"
    }
   },
   "source": [
    "3.To create the above dataframe:\n",
    "\n",
    "-  The dataframe will consist of three columns: PostalCode, Borough, and Neighborhood\n",
    "\n",
    "- Only process the cells that have an assigned borough. Ignore cells with a borough that is Not assigned.\n",
    "\n",
    "- More than one neighborhood can exist in one postal code area. For example, in the table on the Wikipedia page, you will notice that M5A is listed twice and has two neighborhoods: Harbourfront and Regent Park. These two rows will be combined into one row with the neighborhoods separated with a comma as shown in row 11 in the above table.\n",
    "\n",
    "- If a cell has a borough but a Not assigned neighborhood, then the neighborhood will be the same as the borough. So for the 9th cell in the table on the Wikipedia page, the value of the Borough and the Neighborhood columns will be Queen's Park.\n",
    "- Clean your Notebook and add Markdown cells to explain your work and any assumptions you are making.\n",
    "- In the last cell of your notebook, use the .shape method to print the number of rows of your dataframe.\n",
    "\n",
    "4.Submit a link to your Notebook on your Github repository. (10 marks)\n",
    "\n",
    "- Note: There are different website scraping libraries and packages in Python. One of the most common packages is  BeautifulSoup. Here is the package's main documentation page: http://beautiful-soup-4.readthedocs.io/en/latest/\n",
    "\n",
    "- The package is so popular that there is a plethora of tutorials and examples of how to use it. Here is a very good Youtube video on how to use the BeautifulSoup package: https://www.youtube.com/watch?v=ng2o98k983k\n",
    "\n",
    "- Use the BeautifulSoup package or any other way you are comfortable with to transform the data in the table on the Wikipedia page into the above pandas dataframe"
   ]
  },
  {
   "cell_type": "markdown",
   "metadata": {},
   "source": [
    "First task is to parse data from Wikipedia:"
   ]
  },
  {
   "cell_type": "code",
   "execution_count": 3,
   "metadata": {
    "ExecuteTime": {
     "end_time": "2020-04-28T09:26:09.910519Z",
     "start_time": "2020-04-28T09:26:09.886582Z"
    }
   },
   "outputs": [
    {
     "data": {
      "text/html": [
       "\n",
       "        <iframe\n",
       "            width=\"800\"\n",
       "            height=\"350\"\n",
       "            src=\"https://en.wikipedia.org/wiki/List_of_postal_codes_of_Canada:_M\"\n",
       "            frameborder=\"0\"\n",
       "            allowfullscreen\n",
       "        ></iframe>\n",
       "        "
      ],
      "text/plain": [
       "<IPython.lib.display.IFrame at 0x20fa4616108>"
      ]
     },
     "execution_count": 3,
     "metadata": {},
     "output_type": "execute_result"
    }
   ],
   "source": [
    "from IPython.display import IFrame\n",
    "url = \"https://en.wikipedia.org/wiki/List_of_postal_codes_of_Canada:_M\"\n",
    "IFrame(url, width=800, height=350)"
   ]
  },
  {
   "cell_type": "markdown",
   "metadata": {},
   "source": [
    "Data can be parsed using BeautifulSoap, but it's more straightforward just to use Pandas and its function read_html:"
   ]
  },
  {
   "cell_type": "code",
   "execution_count": 4,
   "metadata": {
    "ExecuteTime": {
     "end_time": "2020-04-28T09:26:11.776507Z",
     "start_time": "2020-04-28T09:26:10.651532Z"
    }
   },
   "outputs": [
    {
     "data": {
      "text/html": [
       "<div>\n",
       "<style scoped>\n",
       "    .dataframe tbody tr th:only-of-type {\n",
       "        vertical-align: middle;\n",
       "    }\n",
       "\n",
       "    .dataframe tbody tr th {\n",
       "        vertical-align: top;\n",
       "    }\n",
       "\n",
       "    .dataframe thead th {\n",
       "        text-align: right;\n",
       "    }\n",
       "</style>\n",
       "<table border=\"1\" class=\"dataframe\">\n",
       "  <thead>\n",
       "    <tr style=\"text-align: right;\">\n",
       "      <th></th>\n",
       "      <th>PostalCode</th>\n",
       "      <th>Borough</th>\n",
       "      <th>Neighborhood</th>\n",
       "    </tr>\n",
       "  </thead>\n",
       "  <tbody>\n",
       "    <tr>\n",
       "      <td>0</td>\n",
       "      <td>M2A</td>\n",
       "      <td>Not assigned</td>\n",
       "      <td>NaN</td>\n",
       "    </tr>\n",
       "    <tr>\n",
       "      <td>1</td>\n",
       "      <td>M3A</td>\n",
       "      <td>North York</td>\n",
       "      <td>Parkwoods</td>\n",
       "    </tr>\n",
       "    <tr>\n",
       "      <td>2</td>\n",
       "      <td>M4A</td>\n",
       "      <td>North York</td>\n",
       "      <td>Victoria Village</td>\n",
       "    </tr>\n",
       "    <tr>\n",
       "      <td>3</td>\n",
       "      <td>M5A</td>\n",
       "      <td>Downtown Toronto</td>\n",
       "      <td>Regent Park / Harbourfront</td>\n",
       "    </tr>\n",
       "    <tr>\n",
       "      <td>4</td>\n",
       "      <td>M6A</td>\n",
       "      <td>North York</td>\n",
       "      <td>Lawrence Manor / Lawrence Heights</td>\n",
       "    </tr>\n",
       "  </tbody>\n",
       "</table>\n",
       "</div>"
      ],
      "text/plain": [
       "  PostalCode           Borough                       Neighborhood\n",
       "0        M2A      Not assigned                                NaN\n",
       "1        M3A        North York                          Parkwoods\n",
       "2        M4A        North York                   Victoria Village\n",
       "3        M5A  Downtown Toronto         Regent Park / Harbourfront\n",
       "4        M6A        North York  Lawrence Manor / Lawrence Heights"
      ]
     },
     "execution_count": 4,
     "metadata": {},
     "output_type": "execute_result"
    }
   ],
   "source": [
    "data, = pd.read_html(url, match=\"Postal code\", skiprows=1)\n",
    "data.columns = [\"PostalCode\", \"Borough\", \"Neighborhood\"]\n",
    "data.head()"
   ]
  },
  {
   "cell_type": "code",
   "execution_count": 5,
   "metadata": {
    "ExecuteTime": {
     "end_time": "2020-04-28T09:26:11.787477Z",
     "start_time": "2020-04-28T09:26:11.779500Z"
    }
   },
   "outputs": [
    {
     "data": {
      "text/plain": [
       "(179, 3)"
      ]
     },
     "execution_count": 5,
     "metadata": {},
     "output_type": "execute_result"
    }
   ],
   "source": [
    "data.shape"
   ]
  },
  {
   "cell_type": "markdown",
   "metadata": {},
   "source": [
    "Only process the cells that have an assigned borough. Ignore cells with a borough that is \"Not assigned\""
   ]
  },
  {
   "cell_type": "code",
   "execution_count": 6,
   "metadata": {
    "ExecuteTime": {
     "end_time": "2020-04-28T09:26:12.383882Z",
     "start_time": "2020-04-28T09:26:12.371920Z"
    }
   },
   "outputs": [
    {
     "data": {
      "text/html": [
       "<div>\n",
       "<style scoped>\n",
       "    .dataframe tbody tr th:only-of-type {\n",
       "        vertical-align: middle;\n",
       "    }\n",
       "\n",
       "    .dataframe tbody tr th {\n",
       "        vertical-align: top;\n",
       "    }\n",
       "\n",
       "    .dataframe thead th {\n",
       "        text-align: right;\n",
       "    }\n",
       "</style>\n",
       "<table border=\"1\" class=\"dataframe\">\n",
       "  <thead>\n",
       "    <tr style=\"text-align: right;\">\n",
       "      <th></th>\n",
       "      <th>PostalCode</th>\n",
       "      <th>Borough</th>\n",
       "      <th>Neighborhood</th>\n",
       "    </tr>\n",
       "  </thead>\n",
       "  <tbody>\n",
       "    <tr>\n",
       "      <td>1</td>\n",
       "      <td>M3A</td>\n",
       "      <td>North York</td>\n",
       "      <td>Parkwoods</td>\n",
       "    </tr>\n",
       "    <tr>\n",
       "      <td>2</td>\n",
       "      <td>M4A</td>\n",
       "      <td>North York</td>\n",
       "      <td>Victoria Village</td>\n",
       "    </tr>\n",
       "    <tr>\n",
       "      <td>3</td>\n",
       "      <td>M5A</td>\n",
       "      <td>Downtown Toronto</td>\n",
       "      <td>Regent Park / Harbourfront</td>\n",
       "    </tr>\n",
       "    <tr>\n",
       "      <td>4</td>\n",
       "      <td>M6A</td>\n",
       "      <td>North York</td>\n",
       "      <td>Lawrence Manor / Lawrence Heights</td>\n",
       "    </tr>\n",
       "    <tr>\n",
       "      <td>5</td>\n",
       "      <td>M7A</td>\n",
       "      <td>Downtown Toronto</td>\n",
       "      <td>Queen's Park / Ontario Provincial Government</td>\n",
       "    </tr>\n",
       "  </tbody>\n",
       "</table>\n",
       "</div>"
      ],
      "text/plain": [
       "  PostalCode           Borough                                  Neighborhood\n",
       "1        M3A        North York                                     Parkwoods\n",
       "2        M4A        North York                              Victoria Village\n",
       "3        M5A  Downtown Toronto                    Regent Park / Harbourfront\n",
       "4        M6A        North York             Lawrence Manor / Lawrence Heights\n",
       "5        M7A  Downtown Toronto  Queen's Park / Ontario Provincial Government"
      ]
     },
     "execution_count": 6,
     "metadata": {},
     "output_type": "execute_result"
    }
   ],
   "source": [
    "data = data[data[\"Borough\"] != \"Not assigned\"]\n",
    "data.head()"
   ]
  },
  {
   "cell_type": "markdown",
   "metadata": {},
   "source": [
    "More than one neighborhood can exist in one postal code area. For example, in the table on the Wikipedia page, you will notice that M5A is listed twice and has two neighborhoods: Harbourfront and Regent Park. These two rows will be combined into one row with the neighborhoods separated with a comma.\n",
    "\n",
    "Solution is to group data by PostalCode and aggregate columns. For borough, it's sufficient to pick first item from the resulting series and for neighbourhood, items are joined together using \", \".join(s):"
   ]
  },
  {
   "cell_type": "code",
   "execution_count": 7,
   "metadata": {
    "ExecuteTime": {
     "end_time": "2020-04-28T09:26:13.630771Z",
     "start_time": "2020-04-28T09:26:13.602874Z"
    }
   },
   "outputs": [
    {
     "data": {
      "text/html": [
       "<div>\n",
       "<style scoped>\n",
       "    .dataframe tbody tr th:only-of-type {\n",
       "        vertical-align: middle;\n",
       "    }\n",
       "\n",
       "    .dataframe tbody tr th {\n",
       "        vertical-align: top;\n",
       "    }\n",
       "\n",
       "    .dataframe thead th {\n",
       "        text-align: right;\n",
       "    }\n",
       "</style>\n",
       "<table border=\"1\" class=\"dataframe\">\n",
       "  <thead>\n",
       "    <tr style=\"text-align: right;\">\n",
       "      <th></th>\n",
       "      <th>Borough</th>\n",
       "      <th>Neighborhood</th>\n",
       "    </tr>\n",
       "    <tr>\n",
       "      <th>PostalCode</th>\n",
       "      <th></th>\n",
       "      <th></th>\n",
       "    </tr>\n",
       "  </thead>\n",
       "  <tbody>\n",
       "    <tr>\n",
       "      <td>M1B</td>\n",
       "      <td>Scarborough</td>\n",
       "      <td>Malvern / Rouge</td>\n",
       "    </tr>\n",
       "    <tr>\n",
       "      <td>M1C</td>\n",
       "      <td>Scarborough</td>\n",
       "      <td>Rouge Hill / Port Union / Highland Creek</td>\n",
       "    </tr>\n",
       "    <tr>\n",
       "      <td>M1E</td>\n",
       "      <td>Scarborough</td>\n",
       "      <td>Guildwood / Morningside / West Hill</td>\n",
       "    </tr>\n",
       "    <tr>\n",
       "      <td>M1G</td>\n",
       "      <td>Scarborough</td>\n",
       "      <td>Woburn</td>\n",
       "    </tr>\n",
       "    <tr>\n",
       "      <td>M1H</td>\n",
       "      <td>Scarborough</td>\n",
       "      <td>Cedarbrae</td>\n",
       "    </tr>\n",
       "  </tbody>\n",
       "</table>\n",
       "</div>"
      ],
      "text/plain": [
       "                Borough                              Neighborhood\n",
       "PostalCode                                                       \n",
       "M1B         Scarborough                           Malvern / Rouge\n",
       "M1C         Scarborough  Rouge Hill / Port Union / Highland Creek\n",
       "M1E         Scarborough       Guildwood / Morningside / West Hill\n",
       "M1G         Scarborough                                    Woburn\n",
       "M1H         Scarborough                                 Cedarbrae"
      ]
     },
     "execution_count": 7,
     "metadata": {},
     "output_type": "execute_result"
    }
   ],
   "source": [
    "borough_func = lambda s: s.iloc[0]\n",
    "neighborhood_func = lambda s: \", \".join(s)\n",
    "agg_funcs = {\"Borough\": borough_func, \"Neighborhood\": neighborhood_func}\n",
    "data_temp = data.groupby(by=\"PostalCode\").aggregate(agg_funcs)\n",
    "data_temp.head()"
   ]
  },
  {
   "cell_type": "markdown",
   "metadata": {},
   "source": [
    "Some postprocessing is needed; reset the index and add columns back to right order:"
   ]
  },
  {
   "cell_type": "code",
   "execution_count": 8,
   "metadata": {
    "ExecuteTime": {
     "end_time": "2020-04-28T09:26:14.551502Z",
     "start_time": "2020-04-28T09:26:14.533513Z"
    }
   },
   "outputs": [
    {
     "data": {
      "text/html": [
       "<div>\n",
       "<style scoped>\n",
       "    .dataframe tbody tr th:only-of-type {\n",
       "        vertical-align: middle;\n",
       "    }\n",
       "\n",
       "    .dataframe tbody tr th {\n",
       "        vertical-align: top;\n",
       "    }\n",
       "\n",
       "    .dataframe thead th {\n",
       "        text-align: right;\n",
       "    }\n",
       "</style>\n",
       "<table border=\"1\" class=\"dataframe\">\n",
       "  <thead>\n",
       "    <tr style=\"text-align: right;\">\n",
       "      <th></th>\n",
       "      <th>PostalCode</th>\n",
       "      <th>Borough</th>\n",
       "      <th>Neighborhood</th>\n",
       "    </tr>\n",
       "  </thead>\n",
       "  <tbody>\n",
       "    <tr>\n",
       "      <td>0</td>\n",
       "      <td>M1B</td>\n",
       "      <td>Scarborough</td>\n",
       "      <td>Malvern / Rouge</td>\n",
       "    </tr>\n",
       "    <tr>\n",
       "      <td>1</td>\n",
       "      <td>M1C</td>\n",
       "      <td>Scarborough</td>\n",
       "      <td>Rouge Hill / Port Union / Highland Creek</td>\n",
       "    </tr>\n",
       "    <tr>\n",
       "      <td>2</td>\n",
       "      <td>M1E</td>\n",
       "      <td>Scarborough</td>\n",
       "      <td>Guildwood / Morningside / West Hill</td>\n",
       "    </tr>\n",
       "    <tr>\n",
       "      <td>3</td>\n",
       "      <td>M1G</td>\n",
       "      <td>Scarborough</td>\n",
       "      <td>Woburn</td>\n",
       "    </tr>\n",
       "    <tr>\n",
       "      <td>4</td>\n",
       "      <td>M1H</td>\n",
       "      <td>Scarborough</td>\n",
       "      <td>Cedarbrae</td>\n",
       "    </tr>\n",
       "    <tr>\n",
       "      <td>5</td>\n",
       "      <td>M1J</td>\n",
       "      <td>Scarborough</td>\n",
       "      <td>Scarborough Village</td>\n",
       "    </tr>\n",
       "    <tr>\n",
       "      <td>6</td>\n",
       "      <td>M1K</td>\n",
       "      <td>Scarborough</td>\n",
       "      <td>Kennedy Park / Ionview / East Birchmount Park</td>\n",
       "    </tr>\n",
       "    <tr>\n",
       "      <td>7</td>\n",
       "      <td>M1L</td>\n",
       "      <td>Scarborough</td>\n",
       "      <td>Golden Mile / Clairlea / Oakridge</td>\n",
       "    </tr>\n",
       "    <tr>\n",
       "      <td>8</td>\n",
       "      <td>M1M</td>\n",
       "      <td>Scarborough</td>\n",
       "      <td>Cliffside / Cliffcrest / Scarborough Village West</td>\n",
       "    </tr>\n",
       "    <tr>\n",
       "      <td>9</td>\n",
       "      <td>M1N</td>\n",
       "      <td>Scarborough</td>\n",
       "      <td>Birch Cliff / Cliffside West</td>\n",
       "    </tr>\n",
       "  </tbody>\n",
       "</table>\n",
       "</div>"
      ],
      "text/plain": [
       "  PostalCode      Borough                                       Neighborhood\n",
       "0        M1B  Scarborough                                    Malvern / Rouge\n",
       "1        M1C  Scarborough           Rouge Hill / Port Union / Highland Creek\n",
       "2        M1E  Scarborough                Guildwood / Morningside / West Hill\n",
       "3        M1G  Scarborough                                             Woburn\n",
       "4        M1H  Scarborough                                          Cedarbrae\n",
       "5        M1J  Scarborough                                Scarborough Village\n",
       "6        M1K  Scarborough      Kennedy Park / Ionview / East Birchmount Park\n",
       "7        M1L  Scarborough                  Golden Mile / Clairlea / Oakridge\n",
       "8        M1M  Scarborough  Cliffside / Cliffcrest / Scarborough Village West\n",
       "9        M1N  Scarborough                       Birch Cliff / Cliffside West"
      ]
     },
     "execution_count": 8,
     "metadata": {},
     "output_type": "execute_result"
    }
   ],
   "source": [
    "data = data_temp.reset_index()[data.columns]\n",
    "data.head(10)"
   ]
  },
  {
   "cell_type": "markdown",
   "metadata": {},
   "source": [
    "Checking for Not assigned and Nan(blank) values"
   ]
  },
  {
   "cell_type": "code",
   "execution_count": 9,
   "metadata": {
    "ExecuteTime": {
     "end_time": "2020-04-28T09:26:15.309554Z",
     "start_time": "2020-04-28T09:26:15.296589Z"
    }
   },
   "outputs": [
    {
     "data": {
      "text/html": [
       "<div>\n",
       "<style scoped>\n",
       "    .dataframe tbody tr th:only-of-type {\n",
       "        vertical-align: middle;\n",
       "    }\n",
       "\n",
       "    .dataframe tbody tr th {\n",
       "        vertical-align: top;\n",
       "    }\n",
       "\n",
       "    .dataframe thead th {\n",
       "        text-align: right;\n",
       "    }\n",
       "</style>\n",
       "<table border=\"1\" class=\"dataframe\">\n",
       "  <thead>\n",
       "    <tr style=\"text-align: right;\">\n",
       "      <th></th>\n",
       "      <th>PostalCode</th>\n",
       "      <th>Borough</th>\n",
       "      <th>Neighborhood</th>\n",
       "    </tr>\n",
       "  </thead>\n",
       "  <tbody>\n",
       "  </tbody>\n",
       "</table>\n",
       "</div>"
      ],
      "text/plain": [
       "Empty DataFrame\n",
       "Columns: [PostalCode, Borough, Neighborhood]\n",
       "Index: []"
      ]
     },
     "execution_count": 9,
     "metadata": {},
     "output_type": "execute_result"
    }
   ],
   "source": [
    "data[data[\"Neighborhood\"] == \"Not assigned\"]"
   ]
  },
  {
   "cell_type": "code",
   "execution_count": 10,
   "metadata": {
    "ExecuteTime": {
     "end_time": "2020-04-28T09:26:15.912942Z",
     "start_time": "2020-04-28T09:26:15.904964Z"
    }
   },
   "outputs": [
    {
     "data": {
      "text/plain": [
       "0"
      ]
     },
     "execution_count": 10,
     "metadata": {},
     "output_type": "execute_result"
    }
   ],
   "source": [
    "data[\"Neighborhood\"].isnull().sum()"
   ]
  },
  {
   "cell_type": "code",
   "execution_count": 11,
   "metadata": {
    "ExecuteTime": {
     "end_time": "2020-04-28T09:26:16.440530Z",
     "start_time": "2020-04-28T09:26:16.434549Z"
    }
   },
   "outputs": [
    {
     "data": {
      "text/plain": [
       "(103, 3)"
      ]
     },
     "execution_count": 11,
     "metadata": {},
     "output_type": "execute_result"
    }
   ],
   "source": [
    "data.shape"
   ]
  },
  {
   "cell_type": "markdown",
   "metadata": {},
   "source": [
    "In case of \"Not assigned\" replace by:"
   ]
  },
  {
   "cell_type": "code",
   "execution_count": 12,
   "metadata": {
    "ExecuteTime": {
     "end_time": "2020-04-28T09:26:17.265266Z",
     "start_time": "2020-04-28T09:26:17.243323Z"
    }
   },
   "outputs": [],
   "source": [
    "for (j, row) in data.iterrows():\n",
    "    if row[\"Neighborhood\"] == \"Not assigned\":\n",
    "        borough = row[\"Borough\"]\n",
    "        print(\"Replace \\\"Not assigned\\\" => %s in row %i\" % (borough, j))\n",
    "        row[\"Neighborhood\"] = borough"
   ]
  },
  {
   "cell_type": "code",
   "execution_count": 13,
   "metadata": {
    "ExecuteTime": {
     "end_time": "2020-04-28T09:26:18.440393Z",
     "start_time": "2020-04-28T09:26:17.708076Z"
    }
   },
   "outputs": [
    {
     "data": {
      "text/html": [
       "<div>\n",
       "<style scoped>\n",
       "    .dataframe tbody tr th:only-of-type {\n",
       "        vertical-align: middle;\n",
       "    }\n",
       "\n",
       "    .dataframe tbody tr th {\n",
       "        vertical-align: top;\n",
       "    }\n",
       "\n",
       "    .dataframe thead th {\n",
       "        text-align: right;\n",
       "    }\n",
       "</style>\n",
       "<table border=\"1\" class=\"dataframe\">\n",
       "  <thead>\n",
       "    <tr style=\"text-align: right;\">\n",
       "      <th></th>\n",
       "      <th>PostalCode</th>\n",
       "      <th>Borough</th>\n",
       "      <th>Neighborhood</th>\n",
       "    </tr>\n",
       "  </thead>\n",
       "  <tbody>\n",
       "    <tr>\n",
       "      <td>83</td>\n",
       "      <td>M6R</td>\n",
       "      <td>West Toronto</td>\n",
       "      <td>Parkdale / Roncesvalles</td>\n",
       "    </tr>\n",
       "    <tr>\n",
       "      <td>84</td>\n",
       "      <td>M6S</td>\n",
       "      <td>West Toronto</td>\n",
       "      <td>Runnymede / Swansea</td>\n",
       "    </tr>\n",
       "    <tr>\n",
       "      <td>85</td>\n",
       "      <td>M7A</td>\n",
       "      <td>Downtown Toronto</td>\n",
       "      <td>Queen's Park / Ontario Provincial Government</td>\n",
       "    </tr>\n",
       "    <tr>\n",
       "      <td>86</td>\n",
       "      <td>M7R</td>\n",
       "      <td>Mississauga</td>\n",
       "      <td>Canada Post Gateway Processing Centre</td>\n",
       "    </tr>\n",
       "    <tr>\n",
       "      <td>87</td>\n",
       "      <td>M7Y</td>\n",
       "      <td>East Toronto</td>\n",
       "      <td>Business reply mail Processing CentrE</td>\n",
       "    </tr>\n",
       "  </tbody>\n",
       "</table>\n",
       "</div>"
      ],
      "text/plain": [
       "   PostalCode           Borough                                  Neighborhood\n",
       "83        M6R      West Toronto                       Parkdale / Roncesvalles\n",
       "84        M6S      West Toronto                           Runnymede / Swansea\n",
       "85        M7A  Downtown Toronto  Queen's Park / Ontario Provincial Government\n",
       "86        M7R       Mississauga         Canada Post Gateway Processing Centre\n",
       "87        M7Y      East Toronto         Business reply mail Processing CentrE"
      ]
     },
     "execution_count": 13,
     "metadata": {},
     "output_type": "execute_result"
    }
   ],
   "source": [
    "data.iloc[83:88]"
   ]
  },
  {
   "cell_type": "code",
   "execution_count": 14,
   "metadata": {
    "ExecuteTime": {
     "end_time": "2020-04-28T09:26:18.628881Z",
     "start_time": "2020-04-28T09:26:18.501225Z"
    }
   },
   "outputs": [
    {
     "data": {
      "text/plain": [
       "(103, 3)"
      ]
     },
     "execution_count": 14,
     "metadata": {},
     "output_type": "execute_result"
    }
   ],
   "source": [
    "data.shape"
   ]
  },
  {
   "cell_type": "markdown",
   "metadata": {},
   "source": [
    "# Determining coordinates for each neigbourhood"
   ]
  },
  {
   "cell_type": "code",
   "execution_count": 1,
   "metadata": {
    "ExecuteTime": {
     "end_time": "2020-04-28T09:20:31.000984Z",
     "start_time": "2020-04-28T09:19:48.623659Z"
    }
   },
   "outputs": [
    {
     "name": "stdout",
     "output_type": "stream",
     "text": [
      "Collecting geopy\n",
      "  Downloading https://files.pythonhosted.org/packages/53/fc/3d1b47e8e82ea12c25203929efb1b964918a77067a874b2c7631e2ec35ec/geopy-1.21.0-py2.py3-none-any.whl (104kB)\n",
      "Collecting geographiclib<2,>=1.49 (from geopy)\n",
      "  Downloading https://files.pythonhosted.org/packages/8b/62/26ec95a98ba64299163199e95ad1b0e34ad3f4e176e221c40245f211e425/geographiclib-1.50-py3-none-any.whl\n",
      "Installing collected packages: geographiclib, geopy\n",
      "Successfully installed geographiclib-1.50 geopy-1.21.0\n",
      "Requirement already satisfied: folium in c:\\users\\admin\\anaconda3\\lib\\site-packages (0.10.1)\n",
      "Requirement already satisfied: branca>=0.3.0 in c:\\users\\admin\\anaconda3\\lib\\site-packages (from folium) (0.4.0)\n",
      "Requirement already satisfied: requests in c:\\users\\admin\\anaconda3\\lib\\site-packages (from folium) (2.22.0)\n",
      "Requirement already satisfied: jinja2>=2.9 in c:\\users\\admin\\anaconda3\\lib\\site-packages (from folium) (2.10.3)\n",
      "Requirement already satisfied: numpy in c:\\users\\admin\\anaconda3\\lib\\site-packages (from folium) (1.16.5)\n",
      "Requirement already satisfied: six in c:\\users\\admin\\anaconda3\\lib\\site-packages (from branca>=0.3.0->folium) (1.12.0)\n",
      "Requirement already satisfied: certifi>=2017.4.17 in c:\\users\\admin\\anaconda3\\lib\\site-packages (from requests->folium) (2019.9.11)\n",
      "Requirement already satisfied: chardet<3.1.0,>=3.0.2 in c:\\users\\admin\\anaconda3\\lib\\site-packages (from requests->folium) (3.0.4)\n",
      "Requirement already satisfied: urllib3!=1.25.0,!=1.25.1,<1.26,>=1.21.1 in c:\\users\\admin\\anaconda3\\lib\\site-packages (from requests->folium) (1.24.2)\n",
      "Requirement already satisfied: idna<2.9,>=2.5 in c:\\users\\admin\\anaconda3\\lib\\site-packages (from requests->folium) (2.8)\n",
      "Requirement already satisfied: MarkupSafe>=0.23 in c:\\users\\admin\\anaconda3\\lib\\site-packages (from jinja2>=2.9->folium) (1.1.1)\n",
      "Collecting geocoder\n",
      "  Downloading https://files.pythonhosted.org/packages/4f/6b/13166c909ad2f2d76b929a4227c952630ebaf0d729f6317eb09cbceccbab/geocoder-1.38.1-py2.py3-none-any.whl (98kB)\n",
      "Collecting ratelim (from geocoder)\n",
      "  Downloading https://files.pythonhosted.org/packages/f2/98/7e6d147fd16a10a5f821db6e25f192265d6ecca3d82957a4fdd592cad49c/ratelim-0.1.6-py2.py3-none-any.whl\n",
      "Requirement already satisfied: future in c:\\users\\admin\\anaconda3\\lib\\site-packages (from geocoder) (0.17.1)\n",
      "Requirement already satisfied: six in c:\\users\\admin\\anaconda3\\lib\\site-packages (from geocoder) (1.12.0)\n",
      "Requirement already satisfied: click in c:\\users\\admin\\anaconda3\\lib\\site-packages (from geocoder) (7.0)\n",
      "Requirement already satisfied: requests in c:\\users\\admin\\anaconda3\\lib\\site-packages (from geocoder) (2.22.0)\n",
      "Requirement already satisfied: decorator in c:\\users\\admin\\anaconda3\\lib\\site-packages (from ratelim->geocoder) (4.4.0)\n",
      "Requirement already satisfied: idna<2.9,>=2.5 in c:\\users\\admin\\anaconda3\\lib\\site-packages (from requests->geocoder) (2.8)\n",
      "Requirement already satisfied: chardet<3.1.0,>=3.0.2 in c:\\users\\admin\\anaconda3\\lib\\site-packages (from requests->geocoder) (3.0.4)\n",
      "Requirement already satisfied: urllib3!=1.25.0,!=1.25.1,<1.26,>=1.21.1 in c:\\users\\admin\\anaconda3\\lib\\site-packages (from requests->geocoder) (1.24.2)\n",
      "Requirement already satisfied: certifi>=2017.4.17 in c:\\users\\admin\\anaconda3\\lib\\site-packages (from requests->geocoder) (2019.9.11)\n",
      "Installing collected packages: ratelim, geocoder\n",
      "Successfully installed geocoder-1.38.1 ratelim-0.1.6\n"
     ]
    }
   ],
   "source": [
    "# !pip install geopy\n",
    "# !pip install folium\n",
    "# !pip install geocoder"
   ]
  },
  {
   "cell_type": "code",
   "execution_count": 15,
   "metadata": {
    "ExecuteTime": {
     "end_time": "2020-04-28T09:26:30.623861Z",
     "start_time": "2020-04-28T09:26:23.437642Z"
    }
   },
   "outputs": [
    {
     "data": {
      "text/html": [
       "<div>\n",
       "<style scoped>\n",
       "    .dataframe tbody tr th:only-of-type {\n",
       "        vertical-align: middle;\n",
       "    }\n",
       "\n",
       "    .dataframe tbody tr th {\n",
       "        vertical-align: top;\n",
       "    }\n",
       "\n",
       "    .dataframe thead th {\n",
       "        text-align: right;\n",
       "    }\n",
       "</style>\n",
       "<table border=\"1\" class=\"dataframe\">\n",
       "  <thead>\n",
       "    <tr style=\"text-align: right;\">\n",
       "      <th></th>\n",
       "      <th>Postal Code</th>\n",
       "      <th>Latitude</th>\n",
       "      <th>Longitude</th>\n",
       "    </tr>\n",
       "  </thead>\n",
       "  <tbody>\n",
       "    <tr>\n",
       "      <td>0</td>\n",
       "      <td>M1B</td>\n",
       "      <td>43.806686</td>\n",
       "      <td>-79.194353</td>\n",
       "    </tr>\n",
       "    <tr>\n",
       "      <td>1</td>\n",
       "      <td>M1C</td>\n",
       "      <td>43.784535</td>\n",
       "      <td>-79.160497</td>\n",
       "    </tr>\n",
       "    <tr>\n",
       "      <td>2</td>\n",
       "      <td>M1E</td>\n",
       "      <td>43.763573</td>\n",
       "      <td>-79.188711</td>\n",
       "    </tr>\n",
       "    <tr>\n",
       "      <td>3</td>\n",
       "      <td>M1G</td>\n",
       "      <td>43.770992</td>\n",
       "      <td>-79.216917</td>\n",
       "    </tr>\n",
       "    <tr>\n",
       "      <td>4</td>\n",
       "      <td>M1H</td>\n",
       "      <td>43.773136</td>\n",
       "      <td>-79.239476</td>\n",
       "    </tr>\n",
       "  </tbody>\n",
       "</table>\n",
       "</div>"
      ],
      "text/plain": [
       "  Postal Code   Latitude  Longitude\n",
       "0         M1B  43.806686 -79.194353\n",
       "1         M1C  43.784535 -79.160497\n",
       "2         M1E  43.763573 -79.188711\n",
       "3         M1G  43.770992 -79.216917\n",
       "4         M1H  43.773136 -79.239476"
      ]
     },
     "execution_count": 15,
     "metadata": {},
     "output_type": "execute_result"
    }
   ],
   "source": [
    "locations = pd.read_csv(\"https://cocl.us/Geospatial_data\")\n",
    "locations.head()"
   ]
  },
  {
   "cell_type": "code",
   "execution_count": 16,
   "metadata": {
    "ExecuteTime": {
     "end_time": "2020-04-28T09:26:30.656770Z",
     "start_time": "2020-04-28T09:26:30.629844Z"
    }
   },
   "outputs": [
    {
     "data": {
      "text/html": [
       "<div>\n",
       "<style scoped>\n",
       "    .dataframe tbody tr th:only-of-type {\n",
       "        vertical-align: middle;\n",
       "    }\n",
       "\n",
       "    .dataframe tbody tr th {\n",
       "        vertical-align: top;\n",
       "    }\n",
       "\n",
       "    .dataframe thead th {\n",
       "        text-align: right;\n",
       "    }\n",
       "</style>\n",
       "<table border=\"1\" class=\"dataframe\">\n",
       "  <thead>\n",
       "    <tr style=\"text-align: right;\">\n",
       "      <th></th>\n",
       "      <th>PostalCode</th>\n",
       "      <th>Borough</th>\n",
       "      <th>Neighborhood</th>\n",
       "      <th>Latitude</th>\n",
       "      <th>Longitude</th>\n",
       "    </tr>\n",
       "  </thead>\n",
       "  <tbody>\n",
       "    <tr>\n",
       "      <td>0</td>\n",
       "      <td>M1B</td>\n",
       "      <td>Scarborough</td>\n",
       "      <td>Malvern / Rouge</td>\n",
       "      <td>43.806686</td>\n",
       "      <td>-79.194353</td>\n",
       "    </tr>\n",
       "    <tr>\n",
       "      <td>1</td>\n",
       "      <td>M1C</td>\n",
       "      <td>Scarborough</td>\n",
       "      <td>Rouge Hill / Port Union / Highland Creek</td>\n",
       "      <td>43.784535</td>\n",
       "      <td>-79.160497</td>\n",
       "    </tr>\n",
       "    <tr>\n",
       "      <td>2</td>\n",
       "      <td>M1E</td>\n",
       "      <td>Scarborough</td>\n",
       "      <td>Guildwood / Morningside / West Hill</td>\n",
       "      <td>43.763573</td>\n",
       "      <td>-79.188711</td>\n",
       "    </tr>\n",
       "    <tr>\n",
       "      <td>3</td>\n",
       "      <td>M1G</td>\n",
       "      <td>Scarborough</td>\n",
       "      <td>Woburn</td>\n",
       "      <td>43.770992</td>\n",
       "      <td>-79.216917</td>\n",
       "    </tr>\n",
       "    <tr>\n",
       "      <td>4</td>\n",
       "      <td>M1H</td>\n",
       "      <td>Scarborough</td>\n",
       "      <td>Cedarbrae</td>\n",
       "      <td>43.773136</td>\n",
       "      <td>-79.239476</td>\n",
       "    </tr>\n",
       "  </tbody>\n",
       "</table>\n",
       "</div>"
      ],
      "text/plain": [
       "  PostalCode      Borough                              Neighborhood  \\\n",
       "0        M1B  Scarborough                           Malvern / Rouge   \n",
       "1        M1C  Scarborough  Rouge Hill / Port Union / Highland Creek   \n",
       "2        M1E  Scarborough       Guildwood / Morningside / West Hill   \n",
       "3        M1G  Scarborough                                    Woburn   \n",
       "4        M1H  Scarborough                                 Cedarbrae   \n",
       "\n",
       "    Latitude  Longitude  \n",
       "0  43.806686 -79.194353  \n",
       "1  43.784535 -79.160497  \n",
       "2  43.763573 -79.188711  \n",
       "3  43.770992 -79.216917  \n",
       "4  43.773136 -79.239476  "
      ]
     },
     "execution_count": 16,
     "metadata": {},
     "output_type": "execute_result"
    }
   ],
   "source": [
    "locations.columns = [\"PostalCode\", \"Latitude\", \"Longitude\"]\n",
    "data2 = pd.merge(data, locations, on='PostalCode')\n",
    "data2.head()"
   ]
  },
  {
   "cell_type": "markdown",
   "metadata": {},
   "source": [
    "To check that merging was succesfull, find the first postal code M5G which should be (43.657952, -79.387383):"
   ]
  },
  {
   "cell_type": "code",
   "execution_count": 17,
   "metadata": {
    "ExecuteTime": {
     "end_time": "2020-04-28T09:26:30.780440Z",
     "start_time": "2020-04-28T09:26:30.659762Z"
    }
   },
   "outputs": [
    {
     "data": {
      "text/html": [
       "<div>\n",
       "<style scoped>\n",
       "    .dataframe tbody tr th:only-of-type {\n",
       "        vertical-align: middle;\n",
       "    }\n",
       "\n",
       "    .dataframe tbody tr th {\n",
       "        vertical-align: top;\n",
       "    }\n",
       "\n",
       "    .dataframe thead th {\n",
       "        text-align: right;\n",
       "    }\n",
       "</style>\n",
       "<table border=\"1\" class=\"dataframe\">\n",
       "  <thead>\n",
       "    <tr style=\"text-align: right;\">\n",
       "      <th></th>\n",
       "      <th>PostalCode</th>\n",
       "      <th>Borough</th>\n",
       "      <th>Neighborhood</th>\n",
       "      <th>Latitude</th>\n",
       "      <th>Longitude</th>\n",
       "    </tr>\n",
       "  </thead>\n",
       "  <tbody>\n",
       "    <tr>\n",
       "      <td>57</td>\n",
       "      <td>M5G</td>\n",
       "      <td>Downtown Toronto</td>\n",
       "      <td>Central Bay Street</td>\n",
       "      <td>43.657952</td>\n",
       "      <td>-79.387383</td>\n",
       "    </tr>\n",
       "  </tbody>\n",
       "</table>\n",
       "</div>"
      ],
      "text/plain": [
       "   PostalCode           Borough        Neighborhood   Latitude  Longitude\n",
       "57        M5G  Downtown Toronto  Central Bay Street  43.657952 -79.387383"
      ]
     },
     "execution_count": 17,
     "metadata": {},
     "output_type": "execute_result"
    }
   ],
   "source": [
    "data2[data2[\"PostalCode\"] == \"M5G\"]"
   ]
  },
  {
   "cell_type": "code",
   "execution_count": 18,
   "metadata": {
    "ExecuteTime": {
     "end_time": "2020-04-28T09:26:30.932036Z",
     "start_time": "2020-04-28T09:26:30.783432Z"
    }
   },
   "outputs": [
    {
     "data": {
      "text/html": [
       "<div>\n",
       "<style scoped>\n",
       "    .dataframe tbody tr th:only-of-type {\n",
       "        vertical-align: middle;\n",
       "    }\n",
       "\n",
       "    .dataframe tbody tr th {\n",
       "        vertical-align: top;\n",
       "    }\n",
       "\n",
       "    .dataframe thead th {\n",
       "        text-align: right;\n",
       "    }\n",
       "</style>\n",
       "<table border=\"1\" class=\"dataframe\">\n",
       "  <thead>\n",
       "    <tr style=\"text-align: right;\">\n",
       "      <th></th>\n",
       "      <th>PostalCode</th>\n",
       "      <th>Borough</th>\n",
       "      <th>Neighborhood</th>\n",
       "      <th>Latitude</th>\n",
       "      <th>Longitude</th>\n",
       "    </tr>\n",
       "  </thead>\n",
       "  <tbody>\n",
       "    <tr>\n",
       "      <td>53</td>\n",
       "      <td>M5A</td>\n",
       "      <td>Downtown Toronto</td>\n",
       "      <td>Regent Park / Harbourfront</td>\n",
       "      <td>43.65426</td>\n",
       "      <td>-79.360636</td>\n",
       "    </tr>\n",
       "  </tbody>\n",
       "</table>\n",
       "</div>"
      ],
      "text/plain": [
       "   PostalCode           Borough                Neighborhood  Latitude  \\\n",
       "53        M5A  Downtown Toronto  Regent Park / Harbourfront  43.65426   \n",
       "\n",
       "    Longitude  \n",
       "53 -79.360636  "
      ]
     },
     "execution_count": 18,
     "metadata": {},
     "output_type": "execute_result"
    }
   ],
   "source": [
    "data2[data2[\"PostalCode\"] == \"M5A\"]"
   ]
  },
  {
   "cell_type": "markdown",
   "metadata": {},
   "source": [
    "The ordering of the dataframe in assignment is unknown but clearly we have correct latitude and longitude now attached for each postal code."
   ]
  },
  {
   "cell_type": "markdown",
   "metadata": {},
   "source": [
    "# Explore data"
   ]
  },
  {
   "cell_type": "markdown",
   "metadata": {},
   "source": [
    "Let's filter only rows where Borough contains word Toronto and explore and cluster that."
   ]
  },
  {
   "cell_type": "code",
   "execution_count": 19,
   "metadata": {
    "ExecuteTime": {
     "end_time": "2020-04-28T09:26:42.719874Z",
     "start_time": "2020-04-28T09:26:42.693947Z"
    }
   },
   "outputs": [
    {
     "data": {
      "text/html": [
       "<div>\n",
       "<style scoped>\n",
       "    .dataframe tbody tr th:only-of-type {\n",
       "        vertical-align: middle;\n",
       "    }\n",
       "\n",
       "    .dataframe tbody tr th {\n",
       "        vertical-align: top;\n",
       "    }\n",
       "\n",
       "    .dataframe thead th {\n",
       "        text-align: right;\n",
       "    }\n",
       "</style>\n",
       "<table border=\"1\" class=\"dataframe\">\n",
       "  <thead>\n",
       "    <tr style=\"text-align: right;\">\n",
       "      <th></th>\n",
       "      <th>PostalCode</th>\n",
       "      <th>Borough</th>\n",
       "      <th>Neighborhood</th>\n",
       "      <th>Latitude</th>\n",
       "      <th>Longitude</th>\n",
       "    </tr>\n",
       "  </thead>\n",
       "  <tbody>\n",
       "    <tr>\n",
       "      <td>37</td>\n",
       "      <td>M4E</td>\n",
       "      <td>East Toronto</td>\n",
       "      <td>The Beaches</td>\n",
       "      <td>43.676357</td>\n",
       "      <td>-79.293031</td>\n",
       "    </tr>\n",
       "    <tr>\n",
       "      <td>41</td>\n",
       "      <td>M4K</td>\n",
       "      <td>East Toronto</td>\n",
       "      <td>The Danforth West / Riverdale</td>\n",
       "      <td>43.679557</td>\n",
       "      <td>-79.352188</td>\n",
       "    </tr>\n",
       "    <tr>\n",
       "      <td>42</td>\n",
       "      <td>M4L</td>\n",
       "      <td>East Toronto</td>\n",
       "      <td>India Bazaar / The Beaches West</td>\n",
       "      <td>43.668999</td>\n",
       "      <td>-79.315572</td>\n",
       "    </tr>\n",
       "    <tr>\n",
       "      <td>43</td>\n",
       "      <td>M4M</td>\n",
       "      <td>East Toronto</td>\n",
       "      <td>Studio District</td>\n",
       "      <td>43.659526</td>\n",
       "      <td>-79.340923</td>\n",
       "    </tr>\n",
       "    <tr>\n",
       "      <td>44</td>\n",
       "      <td>M4N</td>\n",
       "      <td>Central Toronto</td>\n",
       "      <td>Lawrence Park</td>\n",
       "      <td>43.728020</td>\n",
       "      <td>-79.388790</td>\n",
       "    </tr>\n",
       "  </tbody>\n",
       "</table>\n",
       "</div>"
      ],
      "text/plain": [
       "   PostalCode          Borough                     Neighborhood   Latitude  \\\n",
       "37        M4E     East Toronto                      The Beaches  43.676357   \n",
       "41        M4K     East Toronto    The Danforth West / Riverdale  43.679557   \n",
       "42        M4L     East Toronto  India Bazaar / The Beaches West  43.668999   \n",
       "43        M4M     East Toronto                  Studio District  43.659526   \n",
       "44        M4N  Central Toronto                    Lawrence Park  43.728020   \n",
       "\n",
       "    Longitude  \n",
       "37 -79.293031  \n",
       "41 -79.352188  \n",
       "42 -79.315572  \n",
       "43 -79.340923  \n",
       "44 -79.388790  "
      ]
     },
     "execution_count": 19,
     "metadata": {},
     "output_type": "execute_result"
    }
   ],
   "source": [
    "some = data2[data2['Borough'].str.contains(\"Toronto\")]\n",
    "some.head()"
   ]
  },
  {
   "cell_type": "code",
   "execution_count": 20,
   "metadata": {
    "ExecuteTime": {
     "end_time": "2020-04-28T09:26:55.993106Z",
     "start_time": "2020-04-28T09:26:55.986126Z"
    }
   },
   "outputs": [
    {
     "data": {
      "text/plain": [
       "(39, 5)"
      ]
     },
     "execution_count": 20,
     "metadata": {},
     "output_type": "execute_result"
    }
   ],
   "source": [
    "some.shape"
   ]
  },
  {
   "cell_type": "markdown",
   "metadata": {},
   "source": [
    "# Map of Toronto"
   ]
  },
  {
   "cell_type": "code",
   "execution_count": 25,
   "metadata": {
    "ExecuteTime": {
     "end_time": "2020-04-28T09:52:18.541031Z",
     "start_time": "2020-04-28T09:52:17.957694Z"
    }
   },
   "outputs": [
    {
     "name": "stdout",
     "output_type": "stream",
     "text": [
      "The geograpical coordinate of Toronto, Canada are 43.6534817, -79.3839347.\n"
     ]
    }
   ],
   "source": [
    "from geopy.geocoders import Nominatim\n",
    "address = 'Toronto'\n",
    "\n",
    "geolocator = Nominatim(user_agent=\"ny_explorer\")\n",
    "location = geolocator.geocode(address)\n",
    "latitude = location.latitude\n",
    "longitude = location.longitude\n",
    "print('The geograpical coordinate of Toronto, Canada are {}, {}.'.format(latitude, longitude))"
   ]
  },
  {
   "cell_type": "code",
   "execution_count": 27,
   "metadata": {
    "ExecuteTime": {
     "end_time": "2020-04-28T09:53:10.322141Z",
     "start_time": "2020-04-28T09:53:10.309178Z"
    }
   },
   "outputs": [
    {
     "data": {
      "text/html": [
       "<div>\n",
       "<style scoped>\n",
       "    .dataframe tbody tr th:only-of-type {\n",
       "        vertical-align: middle;\n",
       "    }\n",
       "\n",
       "    .dataframe tbody tr th {\n",
       "        vertical-align: top;\n",
       "    }\n",
       "\n",
       "    .dataframe thead th {\n",
       "        text-align: right;\n",
       "    }\n",
       "</style>\n",
       "<table border=\"1\" class=\"dataframe\">\n",
       "  <thead>\n",
       "    <tr style=\"text-align: right;\">\n",
       "      <th></th>\n",
       "      <th>PostalCode</th>\n",
       "      <th>Borough</th>\n",
       "      <th>Neighborhood</th>\n",
       "      <th>Latitude</th>\n",
       "      <th>Longitude</th>\n",
       "    </tr>\n",
       "  </thead>\n",
       "  <tbody>\n",
       "    <tr>\n",
       "      <td>0</td>\n",
       "      <td>M1B</td>\n",
       "      <td>Scarborough</td>\n",
       "      <td>Malvern / Rouge</td>\n",
       "      <td>43.806686</td>\n",
       "      <td>-79.194353</td>\n",
       "    </tr>\n",
       "    <tr>\n",
       "      <td>1</td>\n",
       "      <td>M1C</td>\n",
       "      <td>Scarborough</td>\n",
       "      <td>Rouge Hill / Port Union / Highland Creek</td>\n",
       "      <td>43.784535</td>\n",
       "      <td>-79.160497</td>\n",
       "    </tr>\n",
       "    <tr>\n",
       "      <td>2</td>\n",
       "      <td>M1E</td>\n",
       "      <td>Scarborough</td>\n",
       "      <td>Guildwood / Morningside / West Hill</td>\n",
       "      <td>43.763573</td>\n",
       "      <td>-79.188711</td>\n",
       "    </tr>\n",
       "    <tr>\n",
       "      <td>3</td>\n",
       "      <td>M1G</td>\n",
       "      <td>Scarborough</td>\n",
       "      <td>Woburn</td>\n",
       "      <td>43.770992</td>\n",
       "      <td>-79.216917</td>\n",
       "    </tr>\n",
       "    <tr>\n",
       "      <td>4</td>\n",
       "      <td>M1H</td>\n",
       "      <td>Scarborough</td>\n",
       "      <td>Cedarbrae</td>\n",
       "      <td>43.773136</td>\n",
       "      <td>-79.239476</td>\n",
       "    </tr>\n",
       "  </tbody>\n",
       "</table>\n",
       "</div>"
      ],
      "text/plain": [
       "  PostalCode      Borough                              Neighborhood  \\\n",
       "0        M1B  Scarborough                           Malvern / Rouge   \n",
       "1        M1C  Scarborough  Rouge Hill / Port Union / Highland Creek   \n",
       "2        M1E  Scarborough       Guildwood / Morningside / West Hill   \n",
       "3        M1G  Scarborough                                    Woburn   \n",
       "4        M1H  Scarborough                                 Cedarbrae   \n",
       "\n",
       "    Latitude  Longitude  \n",
       "0  43.806686 -79.194353  \n",
       "1  43.784535 -79.160497  \n",
       "2  43.763573 -79.188711  \n",
       "3  43.770992 -79.216917  \n",
       "4  43.773136 -79.239476  "
      ]
     },
     "execution_count": 27,
     "metadata": {},
     "output_type": "execute_result"
    }
   ],
   "source": [
    "data2.head()"
   ]
  },
  {
   "cell_type": "code",
   "execution_count": 31,
   "metadata": {
    "ExecuteTime": {
     "end_time": "2020-04-28T09:56:20.702455Z",
     "start_time": "2020-04-28T09:56:20.668545Z"
    }
   },
   "outputs": [],
   "source": [
    "import folium\n",
    "# create map of Toronto using latitude and longitude values\n",
    "map_toronto = folium.Map(location=[latitude, longitude], zoom_start=10)\n",
    "\n",
    "# add markers to map\n",
    "for lat, lng, borough, neighborhood in zip(data2['Latitude'], data2['Longitude'], data2['Borough'], data2['Neighborhood']):\n",
    "    label = '{}, {}'.format(neighborhood, borough)\n",
    "    label = folium.Popup(label, parse_html=True)\n",
    "    folium.CircleMarker(\n",
    "        [lat, lng],\n",
    "        radius=5,\n",
    "        popup=label,\n",
    "        color='blue',\n",
    "        fill=True,\n",
    "        fill_color='#3186cc',\n",
    "        fill_opacity=0.7,\n",
    "        parse_html=False).add_to(map_toronto)  \n",
    "    "
   ]
  },
  {
   "cell_type": "code",
   "execution_count": 32,
   "metadata": {
    "ExecuteTime": {
     "end_time": "2020-04-28T09:56:23.141416Z",
     "start_time": "2020-04-28T09:56:22.928945Z"
    }
   },
   "outputs": [
    {
     "data": {
      "text/html": [
       "<div style=\"width:100%;\"><div style=\"position:relative;width:100%;height:0;padding-bottom:60%;\"><iframe src=\"about:blank\" style=\"position:absolute;width:100%;height:100%;left:0;top:0;border:none !important;\" data-html=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 onload=\"this.contentDocument.open();this.contentDocument.write(atob(this.getAttribute('data-html')));this.contentDocument.close();\" allowfullscreen webkitallowfullscreen mozallowfullscreen></iframe></div></div>"
      ],
      "text/plain": [
       "<folium.folium.Map at 0x20fa68bbdc8>"
      ]
     },
     "execution_count": 32,
     "metadata": {},
     "output_type": "execute_result"
    }
   ],
   "source": [
    "map_toronto"
   ]
  },
  {
   "cell_type": "markdown",
   "metadata": {},
   "source": [
    "<img src = "./toronto.png" width = 400>"
   ]
  },
  {
   "cell_type": "code",
   "execution_count": null,
   "metadata": {},
   "outputs": [],
   "source": []
  }
 ],
 "metadata": {
  "kernelspec": {
   "display_name": "Python 3",
   "language": "python",
   "name": "python3"
  },
  "language_info": {
   "codemirror_mode": {
    "name": "ipython",
    "version": 3
   },
   "file_extension": ".py",
   "mimetype": "text/x-python",
   "name": "python",
   "nbconvert_exporter": "python",
   "pygments_lexer": "ipython3",
   "version": "3.7.4"
  },
  "toc": {
   "base_numbering": 1,
   "nav_menu": {},
   "number_sections": false,
   "sideBar": true,
   "skip_h1_title": false,
   "title_cell": "Table of Contents",
   "title_sidebar": "Contents",
   "toc_cell": false,
   "toc_position": {},
   "toc_section_display": true,
   "toc_window_display": false
  }
 },
 "nbformat": 4,
 "nbformat_minor": 2
}
