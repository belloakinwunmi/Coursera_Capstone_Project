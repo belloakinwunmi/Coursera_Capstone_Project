{
 "cells": [
  {
   "cell_type": "markdown",
   "metadata": {},
   "source": [
    "## Applied Data Science Capstone Assignment 2 :Segmenting and Clustering Neighborhoods in Toronto"
   ]
  },
  {
   "cell_type": "markdown",
   "metadata": {},
   "source": [
    "### For this assignment, you will be required to explore and cluster the neighborhoods in Toronto.\n",
    "\n",
    "1. Start by creating a new Notebook for this assignment.\n",
    "2. Use the Notebook to build the code to scrape the following Wikipedia page, https://en.wikipedia.org/wiki/List_of_postal_codes_of_Canada:_M, in order to obtain the data that is in the table of postal codes and to transform the data into a pandas dataframe like the one shown below:"
   ]
  },
  {
   "cell_type": "code",
   "execution_count": 2,
   "metadata": {
    "ExecuteTime": {
     "end_time": "2020-04-28T09:26:08.600912Z",
     "start_time": "2020-04-28T09:26:07.395113Z"
    }
   },
   "outputs": [],
   "source": [
    "#importing the necessary libraries\n",
    "import pandas as pd"
   ]
  },
  {
   "cell_type": "markdown",
   "metadata": {
    "ExecuteTime": {
     "end_time": "2020-04-28T08:17:57.234340Z",
     "start_time": "2020-04-28T08:17:55.799236Z"
    }
   },
   "source": [
    "3.To create the above dataframe:\n",
    "\n",
    "-  The dataframe will consist of three columns: PostalCode, Borough, and Neighborhood\n",
    "\n",
    "- Only process the cells that have an assigned borough. Ignore cells with a borough that is Not assigned.\n",
    "\n",
    "- More than one neighborhood can exist in one postal code area. For example, in the table on the Wikipedia page, you will notice that M5A is listed twice and has two neighborhoods: Harbourfront and Regent Park. These two rows will be combined into one row with the neighborhoods separated with a comma as shown in row 11 in the above table.\n",
    "\n",
    "- If a cell has a borough but a Not assigned neighborhood, then the neighborhood will be the same as the borough. So for the 9th cell in the table on the Wikipedia page, the value of the Borough and the Neighborhood columns will be Queen's Park.\n",
    "- Clean your Notebook and add Markdown cells to explain your work and any assumptions you are making.\n",
    "- In the last cell of your notebook, use the .shape method to print the number of rows of your dataframe.\n",
    "\n",
    "4.Submit a link to your Notebook on your Github repository. (10 marks)\n",
    "\n",
    "- Note: There are different website scraping libraries and packages in Python. One of the most common packages is  BeautifulSoup. Here is the package's main documentation page: http://beautiful-soup-4.readthedocs.io/en/latest/\n",
    "\n",
    "- The package is so popular that there is a plethora of tutorials and examples of how to use it. Here is a very good Youtube video on how to use the BeautifulSoup package: https://www.youtube.com/watch?v=ng2o98k983k\n",
    "\n",
    "- Use the BeautifulSoup package or any other way you are comfortable with to transform the data in the table on the Wikipedia page into the above pandas dataframe"
   ]
  },
  {
   "cell_type": "markdown",
   "metadata": {},
   "source": [
    "First task is to parse data from Wikipedia:"
   ]
  },
  {
   "cell_type": "code",
   "execution_count": 3,
   "metadata": {
    "ExecuteTime": {
     "end_time": "2020-04-28T09:26:09.910519Z",
     "start_time": "2020-04-28T09:26:09.886582Z"
    }
   },
   "outputs": [
    {
     "data": {
      "text/html": [
       "\n",
       "        <iframe\n",
       "            width=\"800\"\n",
       "            height=\"350\"\n",
       "            src=\"https://en.wikipedia.org/wiki/List_of_postal_codes_of_Canada:_M\"\n",
       "            frameborder=\"0\"\n",
       "            allowfullscreen\n",
       "        ></iframe>\n",
       "        "
      ],
      "text/plain": [
       "<IPython.lib.display.IFrame at 0x20fa4616108>"
      ]
     },
     "execution_count": 3,
     "metadata": {},
     "output_type": "execute_result"
    }
   ],
   "source": [
    "from IPython.display import IFrame\n",
    "url = \"https://en.wikipedia.org/wiki/List_of_postal_codes_of_Canada:_M\"\n",
    "IFrame(url, width=800, height=350)"
   ]
  },
  {
   "cell_type": "markdown",
   "metadata": {},
   "source": [
    "Data can be parsed using BeautifulSoap, but it's more straightforward just to use Pandas and its function read_html:"
   ]
  },
  {
   "cell_type": "code",
   "execution_count": 4,
   "metadata": {
    "ExecuteTime": {
     "end_time": "2020-04-28T09:26:11.776507Z",
     "start_time": "2020-04-28T09:26:10.651532Z"
    }
   },
   "outputs": [
    {
     "data": {
      "text/html": [
       "<div>\n",
       "<style scoped>\n",
       "    .dataframe tbody tr th:only-of-type {\n",
       "        vertical-align: middle;\n",
       "    }\n",
       "\n",
       "    .dataframe tbody tr th {\n",
       "        vertical-align: top;\n",
       "    }\n",
       "\n",
       "    .dataframe thead th {\n",
       "        text-align: right;\n",
       "    }\n",
       "</style>\n",
       "<table border=\"1\" class=\"dataframe\">\n",
       "  <thead>\n",
       "    <tr style=\"text-align: right;\">\n",
       "      <th></th>\n",
       "      <th>PostalCode</th>\n",
       "      <th>Borough</th>\n",
       "      <th>Neighborhood</th>\n",
       "    </tr>\n",
       "  </thead>\n",
       "  <tbody>\n",
       "    <tr>\n",
       "      <td>0</td>\n",
       "      <td>M2A</td>\n",
       "      <td>Not assigned</td>\n",
       "      <td>NaN</td>\n",
       "    </tr>\n",
       "    <tr>\n",
       "      <td>1</td>\n",
       "      <td>M3A</td>\n",
       "      <td>North York</td>\n",
       "      <td>Parkwoods</td>\n",
       "    </tr>\n",
       "    <tr>\n",
       "      <td>2</td>\n",
       "      <td>M4A</td>\n",
       "      <td>North York</td>\n",
       "      <td>Victoria Village</td>\n",
       "    </tr>\n",
       "    <tr>\n",
       "      <td>3</td>\n",
       "      <td>M5A</td>\n",
       "      <td>Downtown Toronto</td>\n",
       "      <td>Regent Park / Harbourfront</td>\n",
       "    </tr>\n",
       "    <tr>\n",
       "      <td>4</td>\n",
       "      <td>M6A</td>\n",
       "      <td>North York</td>\n",
       "      <td>Lawrence Manor / Lawrence Heights</td>\n",
       "    </tr>\n",
       "  </tbody>\n",
       "</table>\n",
       "</div>"
      ],
      "text/plain": [
       "  PostalCode           Borough                       Neighborhood\n",
       "0        M2A      Not assigned                                NaN\n",
       "1        M3A        North York                          Parkwoods\n",
       "2        M4A        North York                   Victoria Village\n",
       "3        M5A  Downtown Toronto         Regent Park / Harbourfront\n",
       "4        M6A        North York  Lawrence Manor / Lawrence Heights"
      ]
     },
     "execution_count": 4,
     "metadata": {},
     "output_type": "execute_result"
    }
   ],
   "source": [
    "data, = pd.read_html(url, match=\"Postal code\", skiprows=1)\n",
    "data.columns = [\"PostalCode\", \"Borough\", \"Neighborhood\"]\n",
    "data.head()"
   ]
  },
  {
   "cell_type": "code",
   "execution_count": 5,
   "metadata": {
    "ExecuteTime": {
     "end_time": "2020-04-28T09:26:11.787477Z",
     "start_time": "2020-04-28T09:26:11.779500Z"
    }
   },
   "outputs": [
    {
     "data": {
      "text/plain": [
       "(179, 3)"
      ]
     },
     "execution_count": 5,
     "metadata": {},
     "output_type": "execute_result"
    }
   ],
   "source": [
    "data.shape"
   ]
  },
  {
   "cell_type": "markdown",
   "metadata": {},
   "source": [
    "Only process the cells that have an assigned borough. Ignore cells with a borough that is \"Not assigned\""
   ]
  },
  {
   "cell_type": "code",
   "execution_count": 6,
   "metadata": {
    "ExecuteTime": {
     "end_time": "2020-04-28T09:26:12.383882Z",
     "start_time": "2020-04-28T09:26:12.371920Z"
    }
   },
   "outputs": [
    {
     "data": {
      "text/html": [
       "<div>\n",
       "<style scoped>\n",
       "    .dataframe tbody tr th:only-of-type {\n",
       "        vertical-align: middle;\n",
       "    }\n",
       "\n",
       "    .dataframe tbody tr th {\n",
       "        vertical-align: top;\n",
       "    }\n",
       "\n",
       "    .dataframe thead th {\n",
       "        text-align: right;\n",
       "    }\n",
       "</style>\n",
       "<table border=\"1\" class=\"dataframe\">\n",
       "  <thead>\n",
       "    <tr style=\"text-align: right;\">\n",
       "      <th></th>\n",
       "      <th>PostalCode</th>\n",
       "      <th>Borough</th>\n",
       "      <th>Neighborhood</th>\n",
       "    </tr>\n",
       "  </thead>\n",
       "  <tbody>\n",
       "    <tr>\n",
       "      <td>1</td>\n",
       "      <td>M3A</td>\n",
       "      <td>North York</td>\n",
       "      <td>Parkwoods</td>\n",
       "    </tr>\n",
       "    <tr>\n",
       "      <td>2</td>\n",
       "      <td>M4A</td>\n",
       "      <td>North York</td>\n",
       "      <td>Victoria Village</td>\n",
       "    </tr>\n",
       "    <tr>\n",
       "      <td>3</td>\n",
       "      <td>M5A</td>\n",
       "      <td>Downtown Toronto</td>\n",
       "      <td>Regent Park / Harbourfront</td>\n",
       "    </tr>\n",
       "    <tr>\n",
       "      <td>4</td>\n",
       "      <td>M6A</td>\n",
       "      <td>North York</td>\n",
       "      <td>Lawrence Manor / Lawrence Heights</td>\n",
       "    </tr>\n",
       "    <tr>\n",
       "      <td>5</td>\n",
       "      <td>M7A</td>\n",
       "      <td>Downtown Toronto</td>\n",
       "      <td>Queen's Park / Ontario Provincial Government</td>\n",
       "    </tr>\n",
       "  </tbody>\n",
       "</table>\n",
       "</div>"
      ],
      "text/plain": [
       "  PostalCode           Borough                                  Neighborhood\n",
       "1        M3A        North York                                     Parkwoods\n",
       "2        M4A        North York                              Victoria Village\n",
       "3        M5A  Downtown Toronto                    Regent Park / Harbourfront\n",
       "4        M6A        North York             Lawrence Manor / Lawrence Heights\n",
       "5        M7A  Downtown Toronto  Queen's Park / Ontario Provincial Government"
      ]
     },
     "execution_count": 6,
     "metadata": {},
     "output_type": "execute_result"
    }
   ],
   "source": [
    "data = data[data[\"Borough\"] != \"Not assigned\"]\n",
    "data.head()"
   ]
  },
  {
   "cell_type": "markdown",
   "metadata": {},
   "source": [
    "More than one neighborhood can exist in one postal code area. For example, in the table on the Wikipedia page, you will notice that M5A is listed twice and has two neighborhoods: Harbourfront and Regent Park. These two rows will be combined into one row with the neighborhoods separated with a comma.\n",
    "\n",
    "Solution is to group data by PostalCode and aggregate columns. For borough, it's sufficient to pick first item from the resulting series and for neighbourhood, items are joined together using \", \".join(s):"
   ]
  },
  {
   "cell_type": "code",
   "execution_count": 7,
   "metadata": {
    "ExecuteTime": {
     "end_time": "2020-04-28T09:26:13.630771Z",
     "start_time": "2020-04-28T09:26:13.602874Z"
    }
   },
   "outputs": [
    {
     "data": {
      "text/html": [
       "<div>\n",
       "<style scoped>\n",
       "    .dataframe tbody tr th:only-of-type {\n",
       "        vertical-align: middle;\n",
       "    }\n",
       "\n",
       "    .dataframe tbody tr th {\n",
       "        vertical-align: top;\n",
       "    }\n",
       "\n",
       "    .dataframe thead th {\n",
       "        text-align: right;\n",
       "    }\n",
       "</style>\n",
       "<table border=\"1\" class=\"dataframe\">\n",
       "  <thead>\n",
       "    <tr style=\"text-align: right;\">\n",
       "      <th></th>\n",
       "      <th>Borough</th>\n",
       "      <th>Neighborhood</th>\n",
       "    </tr>\n",
       "    <tr>\n",
       "      <th>PostalCode</th>\n",
       "      <th></th>\n",
       "      <th></th>\n",
       "    </tr>\n",
       "  </thead>\n",
       "  <tbody>\n",
       "    <tr>\n",
       "      <td>M1B</td>\n",
       "      <td>Scarborough</td>\n",
       "      <td>Malvern / Rouge</td>\n",
       "    </tr>\n",
       "    <tr>\n",
       "      <td>M1C</td>\n",
       "      <td>Scarborough</td>\n",
       "      <td>Rouge Hill / Port Union / Highland Creek</td>\n",
       "    </tr>\n",
       "    <tr>\n",
       "      <td>M1E</td>\n",
       "      <td>Scarborough</td>\n",
       "      <td>Guildwood / Morningside / West Hill</td>\n",
       "    </tr>\n",
       "    <tr>\n",
       "      <td>M1G</td>\n",
       "      <td>Scarborough</td>\n",
       "      <td>Woburn</td>\n",
       "    </tr>\n",
       "    <tr>\n",
       "      <td>M1H</td>\n",
       "      <td>Scarborough</td>\n",
       "      <td>Cedarbrae</td>\n",
       "    </tr>\n",
       "  </tbody>\n",
       "</table>\n",
       "</div>"
      ],
      "text/plain": [
       "                Borough                              Neighborhood\n",
       "PostalCode                                                       \n",
       "M1B         Scarborough                           Malvern / Rouge\n",
       "M1C         Scarborough  Rouge Hill / Port Union / Highland Creek\n",
       "M1E         Scarborough       Guildwood / Morningside / West Hill\n",
       "M1G         Scarborough                                    Woburn\n",
       "M1H         Scarborough                                 Cedarbrae"
      ]
     },
     "execution_count": 7,
     "metadata": {},
     "output_type": "execute_result"
    }
   ],
   "source": [
    "borough_func = lambda s: s.iloc[0]\n",
    "neighborhood_func = lambda s: \", \".join(s)\n",
    "agg_funcs = {\"Borough\": borough_func, \"Neighborhood\": neighborhood_func}\n",
    "data_temp = data.groupby(by=\"PostalCode\").aggregate(agg_funcs)\n",
    "data_temp.head()"
   ]
  },
  {
   "cell_type": "markdown",
   "metadata": {},
   "source": [
    "Some postprocessing is needed; reset the index and add columns back to right order:"
   ]
  },
  {
   "cell_type": "code",
   "execution_count": 8,
   "metadata": {
    "ExecuteTime": {
     "end_time": "2020-04-28T09:26:14.551502Z",
     "start_time": "2020-04-28T09:26:14.533513Z"
    }
   },
   "outputs": [
    {
     "data": {
      "text/html": [
       "<div>\n",
       "<style scoped>\n",
       "    .dataframe tbody tr th:only-of-type {\n",
       "        vertical-align: middle;\n",
       "    }\n",
       "\n",
       "    .dataframe tbody tr th {\n",
       "        vertical-align: top;\n",
       "    }\n",
       "\n",
       "    .dataframe thead th {\n",
       "        text-align: right;\n",
       "    }\n",
       "</style>\n",
       "<table border=\"1\" class=\"dataframe\">\n",
       "  <thead>\n",
       "    <tr style=\"text-align: right;\">\n",
       "      <th></th>\n",
       "      <th>PostalCode</th>\n",
       "      <th>Borough</th>\n",
       "      <th>Neighborhood</th>\n",
       "    </tr>\n",
       "  </thead>\n",
       "  <tbody>\n",
       "    <tr>\n",
       "      <td>0</td>\n",
       "      <td>M1B</td>\n",
       "      <td>Scarborough</td>\n",
       "      <td>Malvern / Rouge</td>\n",
       "    </tr>\n",
       "    <tr>\n",
       "      <td>1</td>\n",
       "      <td>M1C</td>\n",
       "      <td>Scarborough</td>\n",
       "      <td>Rouge Hill / Port Union / Highland Creek</td>\n",
       "    </tr>\n",
       "    <tr>\n",
       "      <td>2</td>\n",
       "      <td>M1E</td>\n",
       "      <td>Scarborough</td>\n",
       "      <td>Guildwood / Morningside / West Hill</td>\n",
       "    </tr>\n",
       "    <tr>\n",
       "      <td>3</td>\n",
       "      <td>M1G</td>\n",
       "      <td>Scarborough</td>\n",
       "      <td>Woburn</td>\n",
       "    </tr>\n",
       "    <tr>\n",
       "      <td>4</td>\n",
       "      <td>M1H</td>\n",
       "      <td>Scarborough</td>\n",
       "      <td>Cedarbrae</td>\n",
       "    </tr>\n",
       "    <tr>\n",
       "      <td>5</td>\n",
       "      <td>M1J</td>\n",
       "      <td>Scarborough</td>\n",
       "      <td>Scarborough Village</td>\n",
       "    </tr>\n",
       "    <tr>\n",
       "      <td>6</td>\n",
       "      <td>M1K</td>\n",
       "      <td>Scarborough</td>\n",
       "      <td>Kennedy Park / Ionview / East Birchmount Park</td>\n",
       "    </tr>\n",
       "    <tr>\n",
       "      <td>7</td>\n",
       "      <td>M1L</td>\n",
       "      <td>Scarborough</td>\n",
       "      <td>Golden Mile / Clairlea / Oakridge</td>\n",
       "    </tr>\n",
       "    <tr>\n",
       "      <td>8</td>\n",
       "      <td>M1M</td>\n",
       "      <td>Scarborough</td>\n",
       "      <td>Cliffside / Cliffcrest / Scarborough Village West</td>\n",
       "    </tr>\n",
       "    <tr>\n",
       "      <td>9</td>\n",
       "      <td>M1N</td>\n",
       "      <td>Scarborough</td>\n",
       "      <td>Birch Cliff / Cliffside West</td>\n",
       "    </tr>\n",
       "  </tbody>\n",
       "</table>\n",
       "</div>"
      ],
      "text/plain": [
       "  PostalCode      Borough                                       Neighborhood\n",
       "0        M1B  Scarborough                                    Malvern / Rouge\n",
       "1        M1C  Scarborough           Rouge Hill / Port Union / Highland Creek\n",
       "2        M1E  Scarborough                Guildwood / Morningside / West Hill\n",
       "3        M1G  Scarborough                                             Woburn\n",
       "4        M1H  Scarborough                                          Cedarbrae\n",
       "5        M1J  Scarborough                                Scarborough Village\n",
       "6        M1K  Scarborough      Kennedy Park / Ionview / East Birchmount Park\n",
       "7        M1L  Scarborough                  Golden Mile / Clairlea / Oakridge\n",
       "8        M1M  Scarborough  Cliffside / Cliffcrest / Scarborough Village West\n",
       "9        M1N  Scarborough                       Birch Cliff / Cliffside West"
      ]
     },
     "execution_count": 8,
     "metadata": {},
     "output_type": "execute_result"
    }
   ],
   "source": [
    "data = data_temp.reset_index()[data.columns]\n",
    "data.head(10)"
   ]
  },
  {
   "cell_type": "markdown",
   "metadata": {},
   "source": [
    "Checking for Not assigned and Nan(blank) values"
   ]
  },
  {
   "cell_type": "code",
   "execution_count": 9,
   "metadata": {
    "ExecuteTime": {
     "end_time": "2020-04-28T09:26:15.309554Z",
     "start_time": "2020-04-28T09:26:15.296589Z"
    }
   },
   "outputs": [
    {
     "data": {
      "text/html": [
       "<div>\n",
       "<style scoped>\n",
       "    .dataframe tbody tr th:only-of-type {\n",
       "        vertical-align: middle;\n",
       "    }\n",
       "\n",
       "    .dataframe tbody tr th {\n",
       "        vertical-align: top;\n",
       "    }\n",
       "\n",
       "    .dataframe thead th {\n",
       "        text-align: right;\n",
       "    }\n",
       "</style>\n",
       "<table border=\"1\" class=\"dataframe\">\n",
       "  <thead>\n",
       "    <tr style=\"text-align: right;\">\n",
       "      <th></th>\n",
       "      <th>PostalCode</th>\n",
       "      <th>Borough</th>\n",
       "      <th>Neighborhood</th>\n",
       "    </tr>\n",
       "  </thead>\n",
       "  <tbody>\n",
       "  </tbody>\n",
       "</table>\n",
       "</div>"
      ],
      "text/plain": [
       "Empty DataFrame\n",
       "Columns: [PostalCode, Borough, Neighborhood]\n",
       "Index: []"
      ]
     },
     "execution_count": 9,
     "metadata": {},
     "output_type": "execute_result"
    }
   ],
   "source": [
    "data[data[\"Neighborhood\"] == \"Not assigned\"]"
   ]
  },
  {
   "cell_type": "code",
   "execution_count": 10,
   "metadata": {
    "ExecuteTime": {
     "end_time": "2020-04-28T09:26:15.912942Z",
     "start_time": "2020-04-28T09:26:15.904964Z"
    }
   },
   "outputs": [
    {
     "data": {
      "text/plain": [
       "0"
      ]
     },
     "execution_count": 10,
     "metadata": {},
     "output_type": "execute_result"
    }
   ],
   "source": [
    "data[\"Neighborhood\"].isnull().sum()"
   ]
  },
  {
   "cell_type": "code",
   "execution_count": 11,
   "metadata": {
    "ExecuteTime": {
     "end_time": "2020-04-28T09:26:16.440530Z",
     "start_time": "2020-04-28T09:26:16.434549Z"
    }
   },
   "outputs": [
    {
     "data": {
      "text/plain": [
       "(103, 3)"
      ]
     },
     "execution_count": 11,
     "metadata": {},
     "output_type": "execute_result"
    }
   ],
   "source": [
    "data.shape"
   ]
  },
  {
   "cell_type": "markdown",
   "metadata": {},
   "source": [
    "In case of \"Not assigned\" replace by:"
   ]
  },
  {
   "cell_type": "code",
   "execution_count": 12,
   "metadata": {
    "ExecuteTime": {
     "end_time": "2020-04-28T09:26:17.265266Z",
     "start_time": "2020-04-28T09:26:17.243323Z"
    }
   },
   "outputs": [],
   "source": [
    "for (j, row) in data.iterrows():\n",
    "    if row[\"Neighborhood\"] == \"Not assigned\":\n",
    "        borough = row[\"Borough\"]\n",
    "        print(\"Replace \\\"Not assigned\\\" => %s in row %i\" % (borough, j))\n",
    "        row[\"Neighborhood\"] = borough"
   ]
  },
  {
   "cell_type": "code",
   "execution_count": 13,
   "metadata": {
    "ExecuteTime": {
     "end_time": "2020-04-28T09:26:18.440393Z",
     "start_time": "2020-04-28T09:26:17.708076Z"
    }
   },
   "outputs": [
    {
     "data": {
      "text/html": [
       "<div>\n",
       "<style scoped>\n",
       "    .dataframe tbody tr th:only-of-type {\n",
       "        vertical-align: middle;\n",
       "    }\n",
       "\n",
       "    .dataframe tbody tr th {\n",
       "        vertical-align: top;\n",
       "    }\n",
       "\n",
       "    .dataframe thead th {\n",
       "        text-align: right;\n",
       "    }\n",
       "</style>\n",
       "<table border=\"1\" class=\"dataframe\">\n",
       "  <thead>\n",
       "    <tr style=\"text-align: right;\">\n",
       "      <th></th>\n",
       "      <th>PostalCode</th>\n",
       "      <th>Borough</th>\n",
       "      <th>Neighborhood</th>\n",
       "    </tr>\n",
       "  </thead>\n",
       "  <tbody>\n",
       "    <tr>\n",
       "      <td>83</td>\n",
       "      <td>M6R</td>\n",
       "      <td>West Toronto</td>\n",
       "      <td>Parkdale / Roncesvalles</td>\n",
       "    </tr>\n",
       "    <tr>\n",
       "      <td>84</td>\n",
       "      <td>M6S</td>\n",
       "      <td>West Toronto</td>\n",
       "      <td>Runnymede / Swansea</td>\n",
       "    </tr>\n",
       "    <tr>\n",
       "      <td>85</td>\n",
       "      <td>M7A</td>\n",
       "      <td>Downtown Toronto</td>\n",
       "      <td>Queen's Park / Ontario Provincial Government</td>\n",
       "    </tr>\n",
       "    <tr>\n",
       "      <td>86</td>\n",
       "      <td>M7R</td>\n",
       "      <td>Mississauga</td>\n",
       "      <td>Canada Post Gateway Processing Centre</td>\n",
       "    </tr>\n",
       "    <tr>\n",
       "      <td>87</td>\n",
       "      <td>M7Y</td>\n",
       "      <td>East Toronto</td>\n",
       "      <td>Business reply mail Processing CentrE</td>\n",
       "    </tr>\n",
       "  </tbody>\n",
       "</table>\n",
       "</div>"
      ],
      "text/plain": [
       "   PostalCode           Borough                                  Neighborhood\n",
       "83        M6R      West Toronto                       Parkdale / Roncesvalles\n",
       "84        M6S      West Toronto                           Runnymede / Swansea\n",
       "85        M7A  Downtown Toronto  Queen's Park / Ontario Provincial Government\n",
       "86        M7R       Mississauga         Canada Post Gateway Processing Centre\n",
       "87        M7Y      East Toronto         Business reply mail Processing CentrE"
      ]
     },
     "execution_count": 13,
     "metadata": {},
     "output_type": "execute_result"
    }
   ],
   "source": [
    "data.iloc[83:88]"
   ]
  },
  {
   "cell_type": "code",
   "execution_count": 14,
   "metadata": {
    "ExecuteTime": {
     "end_time": "2020-04-28T09:26:18.628881Z",
     "start_time": "2020-04-28T09:26:18.501225Z"
    }
   },
   "outputs": [
    {
     "data": {
      "text/plain": [
       "(103, 3)"
      ]
     },
     "execution_count": 14,
     "metadata": {},
     "output_type": "execute_result"
    }
   ],
   "source": [
    "data.shape"
   ]
  },
  {
   "cell_type": "markdown",
   "metadata": {},
   "source": [
    "# Determining coordinates for each neigbourhood"
   ]
  },
  {
   "cell_type": "code",
   "execution_count": 1,
   "metadata": {
    "ExecuteTime": {
     "end_time": "2020-04-28T09:20:31.000984Z",
     "start_time": "2020-04-28T09:19:48.623659Z"
    }
   },
   "outputs": [
    {
     "name": "stdout",
     "output_type": "stream",
     "text": [
      "Collecting geopy\n",
      "  Downloading https://files.pythonhosted.org/packages/53/fc/3d1b47e8e82ea12c25203929efb1b964918a77067a874b2c7631e2ec35ec/geopy-1.21.0-py2.py3-none-any.whl (104kB)\n",
      "Collecting geographiclib<2,>=1.49 (from geopy)\n",
      "  Downloading https://files.pythonhosted.org/packages/8b/62/26ec95a98ba64299163199e95ad1b0e34ad3f4e176e221c40245f211e425/geographiclib-1.50-py3-none-any.whl\n",
      "Installing collected packages: geographiclib, geopy\n",
      "Successfully installed geographiclib-1.50 geopy-1.21.0\n",
      "Requirement already satisfied: folium in c:\\users\\admin\\anaconda3\\lib\\site-packages (0.10.1)\n",
      "Requirement already satisfied: branca>=0.3.0 in c:\\users\\admin\\anaconda3\\lib\\site-packages (from folium) (0.4.0)\n",
      "Requirement already satisfied: requests in c:\\users\\admin\\anaconda3\\lib\\site-packages (from folium) (2.22.0)\n",
      "Requirement already satisfied: jinja2>=2.9 in c:\\users\\admin\\anaconda3\\lib\\site-packages (from folium) (2.10.3)\n",
      "Requirement already satisfied: numpy in c:\\users\\admin\\anaconda3\\lib\\site-packages (from folium) (1.16.5)\n",
      "Requirement already satisfied: six in c:\\users\\admin\\anaconda3\\lib\\site-packages (from branca>=0.3.0->folium) (1.12.0)\n",
      "Requirement already satisfied: certifi>=2017.4.17 in c:\\users\\admin\\anaconda3\\lib\\site-packages (from requests->folium) (2019.9.11)\n",
      "Requirement already satisfied: chardet<3.1.0,>=3.0.2 in c:\\users\\admin\\anaconda3\\lib\\site-packages (from requests->folium) (3.0.4)\n",
      "Requirement already satisfied: urllib3!=1.25.0,!=1.25.1,<1.26,>=1.21.1 in c:\\users\\admin\\anaconda3\\lib\\site-packages (from requests->folium) (1.24.2)\n",
      "Requirement already satisfied: idna<2.9,>=2.5 in c:\\users\\admin\\anaconda3\\lib\\site-packages (from requests->folium) (2.8)\n",
      "Requirement already satisfied: MarkupSafe>=0.23 in c:\\users\\admin\\anaconda3\\lib\\site-packages (from jinja2>=2.9->folium) (1.1.1)\n",
      "Collecting geocoder\n",
      "  Downloading https://files.pythonhosted.org/packages/4f/6b/13166c909ad2f2d76b929a4227c952630ebaf0d729f6317eb09cbceccbab/geocoder-1.38.1-py2.py3-none-any.whl (98kB)\n",
      "Collecting ratelim (from geocoder)\n",
      "  Downloading https://files.pythonhosted.org/packages/f2/98/7e6d147fd16a10a5f821db6e25f192265d6ecca3d82957a4fdd592cad49c/ratelim-0.1.6-py2.py3-none-any.whl\n",
      "Requirement already satisfied: future in c:\\users\\admin\\anaconda3\\lib\\site-packages (from geocoder) (0.17.1)\n",
      "Requirement already satisfied: six in c:\\users\\admin\\anaconda3\\lib\\site-packages (from geocoder) (1.12.0)\n",
      "Requirement already satisfied: click in c:\\users\\admin\\anaconda3\\lib\\site-packages (from geocoder) (7.0)\n",
      "Requirement already satisfied: requests in c:\\users\\admin\\anaconda3\\lib\\site-packages (from geocoder) (2.22.0)\n",
      "Requirement already satisfied: decorator in c:\\users\\admin\\anaconda3\\lib\\site-packages (from ratelim->geocoder) (4.4.0)\n",
      "Requirement already satisfied: idna<2.9,>=2.5 in c:\\users\\admin\\anaconda3\\lib\\site-packages (from requests->geocoder) (2.8)\n",
      "Requirement already satisfied: chardet<3.1.0,>=3.0.2 in c:\\users\\admin\\anaconda3\\lib\\site-packages (from requests->geocoder) (3.0.4)\n",
      "Requirement already satisfied: urllib3!=1.25.0,!=1.25.1,<1.26,>=1.21.1 in c:\\users\\admin\\anaconda3\\lib\\site-packages (from requests->geocoder) (1.24.2)\n",
      "Requirement already satisfied: certifi>=2017.4.17 in c:\\users\\admin\\anaconda3\\lib\\site-packages (from requests->geocoder) (2019.9.11)\n",
      "Installing collected packages: ratelim, geocoder\n",
      "Successfully installed geocoder-1.38.1 ratelim-0.1.6\n"
     ]
    }
   ],
   "source": [
    "# !pip install geopy\n",
    "# !pip install folium\n",
    "# !pip install geocoder"
   ]
  },
  {
   "cell_type": "code",
   "execution_count": 15,
   "metadata": {
    "ExecuteTime": {
     "end_time": "2020-04-28T09:26:30.623861Z",
     "start_time": "2020-04-28T09:26:23.437642Z"
    }
   },
   "outputs": [
    {
     "data": {
      "text/html": [
       "<div>\n",
       "<style scoped>\n",
       "    .dataframe tbody tr th:only-of-type {\n",
       "        vertical-align: middle;\n",
       "    }\n",
       "\n",
       "    .dataframe tbody tr th {\n",
       "        vertical-align: top;\n",
       "    }\n",
       "\n",
       "    .dataframe thead th {\n",
       "        text-align: right;\n",
       "    }\n",
       "</style>\n",
       "<table border=\"1\" class=\"dataframe\">\n",
       "  <thead>\n",
       "    <tr style=\"text-align: right;\">\n",
       "      <th></th>\n",
       "      <th>Postal Code</th>\n",
       "      <th>Latitude</th>\n",
       "      <th>Longitude</th>\n",
       "    </tr>\n",
       "  </thead>\n",
       "  <tbody>\n",
       "    <tr>\n",
       "      <td>0</td>\n",
       "      <td>M1B</td>\n",
       "      <td>43.806686</td>\n",
       "      <td>-79.194353</td>\n",
       "    </tr>\n",
       "    <tr>\n",
       "      <td>1</td>\n",
       "      <td>M1C</td>\n",
       "      <td>43.784535</td>\n",
       "      <td>-79.160497</td>\n",
       "    </tr>\n",
       "    <tr>\n",
       "      <td>2</td>\n",
       "      <td>M1E</td>\n",
       "      <td>43.763573</td>\n",
       "      <td>-79.188711</td>\n",
       "    </tr>\n",
       "    <tr>\n",
       "      <td>3</td>\n",
       "      <td>M1G</td>\n",
       "      <td>43.770992</td>\n",
       "      <td>-79.216917</td>\n",
       "    </tr>\n",
       "    <tr>\n",
       "      <td>4</td>\n",
       "      <td>M1H</td>\n",
       "      <td>43.773136</td>\n",
       "      <td>-79.239476</td>\n",
       "    </tr>\n",
       "  </tbody>\n",
       "</table>\n",
       "</div>"
      ],
      "text/plain": [
       "  Postal Code   Latitude  Longitude\n",
       "0         M1B  43.806686 -79.194353\n",
       "1         M1C  43.784535 -79.160497\n",
       "2         M1E  43.763573 -79.188711\n",
       "3         M1G  43.770992 -79.216917\n",
       "4         M1H  43.773136 -79.239476"
      ]
     },
     "execution_count": 15,
     "metadata": {},
     "output_type": "execute_result"
    }
   ],
   "source": [
    "locations = pd.read_csv(\"https://cocl.us/Geospatial_data\")\n",
    "locations.head()"
   ]
  },
  {
   "cell_type": "code",
   "execution_count": 16,
   "metadata": {
    "ExecuteTime": {
     "end_time": "2020-04-28T09:26:30.656770Z",
     "start_time": "2020-04-28T09:26:30.629844Z"
    }
   },
   "outputs": [
    {
     "data": {
      "text/html": [
       "<div>\n",
       "<style scoped>\n",
       "    .dataframe tbody tr th:only-of-type {\n",
       "        vertical-align: middle;\n",
       "    }\n",
       "\n",
       "    .dataframe tbody tr th {\n",
       "        vertical-align: top;\n",
       "    }\n",
       "\n",
       "    .dataframe thead th {\n",
       "        text-align: right;\n",
       "    }\n",
       "</style>\n",
       "<table border=\"1\" class=\"dataframe\">\n",
       "  <thead>\n",
       "    <tr style=\"text-align: right;\">\n",
       "      <th></th>\n",
       "      <th>PostalCode</th>\n",
       "      <th>Borough</th>\n",
       "      <th>Neighborhood</th>\n",
       "      <th>Latitude</th>\n",
       "      <th>Longitude</th>\n",
       "    </tr>\n",
       "  </thead>\n",
       "  <tbody>\n",
       "    <tr>\n",
       "      <td>0</td>\n",
       "      <td>M1B</td>\n",
       "      <td>Scarborough</td>\n",
       "      <td>Malvern / Rouge</td>\n",
       "      <td>43.806686</td>\n",
       "      <td>-79.194353</td>\n",
       "    </tr>\n",
       "    <tr>\n",
       "      <td>1</td>\n",
       "      <td>M1C</td>\n",
       "      <td>Scarborough</td>\n",
       "      <td>Rouge Hill / Port Union / Highland Creek</td>\n",
       "      <td>43.784535</td>\n",
       "      <td>-79.160497</td>\n",
       "    </tr>\n",
       "    <tr>\n",
       "      <td>2</td>\n",
       "      <td>M1E</td>\n",
       "      <td>Scarborough</td>\n",
       "      <td>Guildwood / Morningside / West Hill</td>\n",
       "      <td>43.763573</td>\n",
       "      <td>-79.188711</td>\n",
       "    </tr>\n",
       "    <tr>\n",
       "      <td>3</td>\n",
       "      <td>M1G</td>\n",
       "      <td>Scarborough</td>\n",
       "      <td>Woburn</td>\n",
       "      <td>43.770992</td>\n",
       "      <td>-79.216917</td>\n",
       "    </tr>\n",
       "    <tr>\n",
       "      <td>4</td>\n",
       "      <td>M1H</td>\n",
       "      <td>Scarborough</td>\n",
       "      <td>Cedarbrae</td>\n",
       "      <td>43.773136</td>\n",
       "      <td>-79.239476</td>\n",
       "    </tr>\n",
       "  </tbody>\n",
       "</table>\n",
       "</div>"
      ],
      "text/plain": [
       "  PostalCode      Borough                              Neighborhood  \\\n",
       "0        M1B  Scarborough                           Malvern / Rouge   \n",
       "1        M1C  Scarborough  Rouge Hill / Port Union / Highland Creek   \n",
       "2        M1E  Scarborough       Guildwood / Morningside / West Hill   \n",
       "3        M1G  Scarborough                                    Woburn   \n",
       "4        M1H  Scarborough                                 Cedarbrae   \n",
       "\n",
       "    Latitude  Longitude  \n",
       "0  43.806686 -79.194353  \n",
       "1  43.784535 -79.160497  \n",
       "2  43.763573 -79.188711  \n",
       "3  43.770992 -79.216917  \n",
       "4  43.773136 -79.239476  "
      ]
     },
     "execution_count": 16,
     "metadata": {},
     "output_type": "execute_result"
    }
   ],
   "source": [
    "locations.columns = [\"PostalCode\", \"Latitude\", \"Longitude\"]\n",
    "data2 = pd.merge(data, locations, on='PostalCode')\n",
    "data2.head()"
   ]
  },
  {
   "cell_type": "markdown",
   "metadata": {},
   "source": [
    "To check that merging was succesfull, find the first postal code M5G which should be (43.657952, -79.387383):"
   ]
  },
  {
   "cell_type": "code",
   "execution_count": 17,
   "metadata": {
    "ExecuteTime": {
     "end_time": "2020-04-28T09:26:30.780440Z",
     "start_time": "2020-04-28T09:26:30.659762Z"
    }
   },
   "outputs": [
    {
     "data": {
      "text/html": [
       "<div>\n",
       "<style scoped>\n",
       "    .dataframe tbody tr th:only-of-type {\n",
       "        vertical-align: middle;\n",
       "    }\n",
       "\n",
       "    .dataframe tbody tr th {\n",
       "        vertical-align: top;\n",
       "    }\n",
       "\n",
       "    .dataframe thead th {\n",
       "        text-align: right;\n",
       "    }\n",
       "</style>\n",
       "<table border=\"1\" class=\"dataframe\">\n",
       "  <thead>\n",
       "    <tr style=\"text-align: right;\">\n",
       "      <th></th>\n",
       "      <th>PostalCode</th>\n",
       "      <th>Borough</th>\n",
       "      <th>Neighborhood</th>\n",
       "      <th>Latitude</th>\n",
       "      <th>Longitude</th>\n",
       "    </tr>\n",
       "  </thead>\n",
       "  <tbody>\n",
       "    <tr>\n",
       "      <td>57</td>\n",
       "      <td>M5G</td>\n",
       "      <td>Downtown Toronto</td>\n",
       "      <td>Central Bay Street</td>\n",
       "      <td>43.657952</td>\n",
       "      <td>-79.387383</td>\n",
       "    </tr>\n",
       "  </tbody>\n",
       "</table>\n",
       "</div>"
      ],
      "text/plain": [
       "   PostalCode           Borough        Neighborhood   Latitude  Longitude\n",
       "57        M5G  Downtown Toronto  Central Bay Street  43.657952 -79.387383"
      ]
     },
     "execution_count": 17,
     "metadata": {},
     "output_type": "execute_result"
    }
   ],
   "source": [
    "data2[data2[\"PostalCode\"] == \"M5G\"]"
   ]
  },
  {
   "cell_type": "code",
   "execution_count": 18,
   "metadata": {
    "ExecuteTime": {
     "end_time": "2020-04-28T09:26:30.932036Z",
     "start_time": "2020-04-28T09:26:30.783432Z"
    }
   },
   "outputs": [
    {
     "data": {
      "text/html": [
       "<div>\n",
       "<style scoped>\n",
       "    .dataframe tbody tr th:only-of-type {\n",
       "        vertical-align: middle;\n",
       "    }\n",
       "\n",
       "    .dataframe tbody tr th {\n",
       "        vertical-align: top;\n",
       "    }\n",
       "\n",
       "    .dataframe thead th {\n",
       "        text-align: right;\n",
       "    }\n",
       "</style>\n",
       "<table border=\"1\" class=\"dataframe\">\n",
       "  <thead>\n",
       "    <tr style=\"text-align: right;\">\n",
       "      <th></th>\n",
       "      <th>PostalCode</th>\n",
       "      <th>Borough</th>\n",
       "      <th>Neighborhood</th>\n",
       "      <th>Latitude</th>\n",
       "      <th>Longitude</th>\n",
       "    </tr>\n",
       "  </thead>\n",
       "  <tbody>\n",
       "    <tr>\n",
       "      <td>53</td>\n",
       "      <td>M5A</td>\n",
       "      <td>Downtown Toronto</td>\n",
       "      <td>Regent Park / Harbourfront</td>\n",
       "      <td>43.65426</td>\n",
       "      <td>-79.360636</td>\n",
       "    </tr>\n",
       "  </tbody>\n",
       "</table>\n",
       "</div>"
      ],
      "text/plain": [
       "   PostalCode           Borough                Neighborhood  Latitude  \\\n",
       "53        M5A  Downtown Toronto  Regent Park / Harbourfront  43.65426   \n",
       "\n",
       "    Longitude  \n",
       "53 -79.360636  "
      ]
     },
     "execution_count": 18,
     "metadata": {},
     "output_type": "execute_result"
    }
   ],
   "source": [
    "data2[data2[\"PostalCode\"] == \"M5A\"]"
   ]
  },
  {
   "cell_type": "markdown",
   "metadata": {},
   "source": [
    "The ordering of the dataframe in assignment is unknown but clearly we have correct latitude and longitude now attached for each postal code."
   ]
  },
  {
   "cell_type": "markdown",
   "metadata": {},
   "source": [
    "# Explore data"
   ]
  },
  {
   "cell_type": "markdown",
   "metadata": {},
   "source": [
    "Let's filter only rows where Borough contains word Toronto and explore and cluster that."
   ]
  },
  {
   "cell_type": "code",
   "execution_count": 19,
   "metadata": {
    "ExecuteTime": {
     "end_time": "2020-04-28T09:26:42.719874Z",
     "start_time": "2020-04-28T09:26:42.693947Z"
    }
   },
   "outputs": [
    {
     "data": {
      "text/html": [
       "<div>\n",
       "<style scoped>\n",
       "    .dataframe tbody tr th:only-of-type {\n",
       "        vertical-align: middle;\n",
       "    }\n",
       "\n",
       "    .dataframe tbody tr th {\n",
       "        vertical-align: top;\n",
       "    }\n",
       "\n",
       "    .dataframe thead th {\n",
       "        text-align: right;\n",
       "    }\n",
       "</style>\n",
       "<table border=\"1\" class=\"dataframe\">\n",
       "  <thead>\n",
       "    <tr style=\"text-align: right;\">\n",
       "      <th></th>\n",
       "      <th>PostalCode</th>\n",
       "      <th>Borough</th>\n",
       "      <th>Neighborhood</th>\n",
       "      <th>Latitude</th>\n",
       "      <th>Longitude</th>\n",
       "    </tr>\n",
       "  </thead>\n",
       "  <tbody>\n",
       "    <tr>\n",
       "      <td>37</td>\n",
       "      <td>M4E</td>\n",
       "      <td>East Toronto</td>\n",
       "      <td>The Beaches</td>\n",
       "      <td>43.676357</td>\n",
       "      <td>-79.293031</td>\n",
       "    </tr>\n",
       "    <tr>\n",
       "      <td>41</td>\n",
       "      <td>M4K</td>\n",
       "      <td>East Toronto</td>\n",
       "      <td>The Danforth West / Riverdale</td>\n",
       "      <td>43.679557</td>\n",
       "      <td>-79.352188</td>\n",
       "    </tr>\n",
       "    <tr>\n",
       "      <td>42</td>\n",
       "      <td>M4L</td>\n",
       "      <td>East Toronto</td>\n",
       "      <td>India Bazaar / The Beaches West</td>\n",
       "      <td>43.668999</td>\n",
       "      <td>-79.315572</td>\n",
       "    </tr>\n",
       "    <tr>\n",
       "      <td>43</td>\n",
       "      <td>M4M</td>\n",
       "      <td>East Toronto</td>\n",
       "      <td>Studio District</td>\n",
       "      <td>43.659526</td>\n",
       "      <td>-79.340923</td>\n",
       "    </tr>\n",
       "    <tr>\n",
       "      <td>44</td>\n",
       "      <td>M4N</td>\n",
       "      <td>Central Toronto</td>\n",
       "      <td>Lawrence Park</td>\n",
       "      <td>43.728020</td>\n",
       "      <td>-79.388790</td>\n",
       "    </tr>\n",
       "  </tbody>\n",
       "</table>\n",
       "</div>"
      ],
      "text/plain": [
       "   PostalCode          Borough                     Neighborhood   Latitude  \\\n",
       "37        M4E     East Toronto                      The Beaches  43.676357   \n",
       "41        M4K     East Toronto    The Danforth West / Riverdale  43.679557   \n",
       "42        M4L     East Toronto  India Bazaar / The Beaches West  43.668999   \n",
       "43        M4M     East Toronto                  Studio District  43.659526   \n",
       "44        M4N  Central Toronto                    Lawrence Park  43.728020   \n",
       "\n",
       "    Longitude  \n",
       "37 -79.293031  \n",
       "41 -79.352188  \n",
       "42 -79.315572  \n",
       "43 -79.340923  \n",
       "44 -79.388790  "
      ]
     },
     "execution_count": 19,
     "metadata": {},
     "output_type": "execute_result"
    }
   ],
   "source": [
    "some = data2[data2['Borough'].str.contains(\"Toronto\")]\n",
    "some.head()"
   ]
  },
  {
   "cell_type": "code",
   "execution_count": 20,
   "metadata": {
    "ExecuteTime": {
     "end_time": "2020-04-28T09:26:55.993106Z",
     "start_time": "2020-04-28T09:26:55.986126Z"
    }
   },
   "outputs": [
    {
     "data": {
      "text/plain": [
       "(39, 5)"
      ]
     },
     "execution_count": 20,
     "metadata": {},
     "output_type": "execute_result"
    }
   ],
   "source": [
    "some.shape"
   ]
  },
  {
   "cell_type": "markdown",
   "metadata": {},
   "source": [
    "# Map of Toronto"
   ]
  },
  {
   "cell_type": "code",
   "execution_count": 25,
   "metadata": {
    "ExecuteTime": {
     "end_time": "2020-04-28T09:52:18.541031Z",
     "start_time": "2020-04-28T09:52:17.957694Z"
    }
   },
   "outputs": [
    {
     "name": "stdout",
     "output_type": "stream",
     "text": [
      "The geograpical coordinate of Toronto, Canada are 43.6534817, -79.3839347.\n"
     ]
    }
   ],
   "source": [
    "from geopy.geocoders import Nominatim\n",
    "address = 'Toronto'\n",
    "\n",
    "geolocator = Nominatim(user_agent=\"ny_explorer\")\n",
    "location = geolocator.geocode(address)\n",
    "latitude = location.latitude\n",
    "longitude = location.longitude\n",
    "print('The geograpical coordinate of Toronto, Canada are {}, {}.'.format(latitude, longitude))"
   ]
  },
  {
   "cell_type": "code",
   "execution_count": 27,
   "metadata": {
    "ExecuteTime": {
     "end_time": "2020-04-28T09:53:10.322141Z",
     "start_time": "2020-04-28T09:53:10.309178Z"
    }
   },
   "outputs": [
    {
     "data": {
      "text/html": [
       "<div>\n",
       "<style scoped>\n",
       "    .dataframe tbody tr th:only-of-type {\n",
       "        vertical-align: middle;\n",
       "    }\n",
       "\n",
       "    .dataframe tbody tr th {\n",
       "        vertical-align: top;\n",
       "    }\n",
       "\n",
       "    .dataframe thead th {\n",
       "        text-align: right;\n",
       "    }\n",
       "</style>\n",
       "<table border=\"1\" class=\"dataframe\">\n",
       "  <thead>\n",
       "    <tr style=\"text-align: right;\">\n",
       "      <th></th>\n",
       "      <th>PostalCode</th>\n",
       "      <th>Borough</th>\n",
       "      <th>Neighborhood</th>\n",
       "      <th>Latitude</th>\n",
       "      <th>Longitude</th>\n",
       "    </tr>\n",
       "  </thead>\n",
       "  <tbody>\n",
       "    <tr>\n",
       "      <td>0</td>\n",
       "      <td>M1B</td>\n",
       "      <td>Scarborough</td>\n",
       "      <td>Malvern / Rouge</td>\n",
       "      <td>43.806686</td>\n",
       "      <td>-79.194353</td>\n",
       "    </tr>\n",
       "    <tr>\n",
       "      <td>1</td>\n",
       "      <td>M1C</td>\n",
       "      <td>Scarborough</td>\n",
       "      <td>Rouge Hill / Port Union / Highland Creek</td>\n",
       "      <td>43.784535</td>\n",
       "      <td>-79.160497</td>\n",
       "    </tr>\n",
       "    <tr>\n",
       "      <td>2</td>\n",
       "      <td>M1E</td>\n",
       "      <td>Scarborough</td>\n",
       "      <td>Guildwood / Morningside / West Hill</td>\n",
       "      <td>43.763573</td>\n",
       "      <td>-79.188711</td>\n",
       "    </tr>\n",
       "    <tr>\n",
       "      <td>3</td>\n",
       "      <td>M1G</td>\n",
       "      <td>Scarborough</td>\n",
       "      <td>Woburn</td>\n",
       "      <td>43.770992</td>\n",
       "      <td>-79.216917</td>\n",
       "    </tr>\n",
       "    <tr>\n",
       "      <td>4</td>\n",
       "      <td>M1H</td>\n",
       "      <td>Scarborough</td>\n",
       "      <td>Cedarbrae</td>\n",
       "      <td>43.773136</td>\n",
       "      <td>-79.239476</td>\n",
       "    </tr>\n",
       "  </tbody>\n",
       "</table>\n",
       "</div>"
      ],
      "text/plain": [
       "  PostalCode      Borough                              Neighborhood  \\\n",
       "0        M1B  Scarborough                           Malvern / Rouge   \n",
       "1        M1C  Scarborough  Rouge Hill / Port Union / Highland Creek   \n",
       "2        M1E  Scarborough       Guildwood / Morningside / West Hill   \n",
       "3        M1G  Scarborough                                    Woburn   \n",
       "4        M1H  Scarborough                                 Cedarbrae   \n",
       "\n",
       "    Latitude  Longitude  \n",
       "0  43.806686 -79.194353  \n",
       "1  43.784535 -79.160497  \n",
       "2  43.763573 -79.188711  \n",
       "3  43.770992 -79.216917  \n",
       "4  43.773136 -79.239476  "
      ]
     },
     "execution_count": 27,
     "metadata": {},
     "output_type": "execute_result"
    }
   ],
   "source": [
    "data2.head()"
   ]
  },
  {
   "cell_type": "code",
   "execution_count": 29,
   "metadata": {
    "ExecuteTime": {
     "end_time": "2020-04-28T09:54:20.648693Z",
     "start_time": "2020-04-28T09:54:19.062753Z"
    }
   },
   "outputs": [
    {
     "data": {
      "text/html": [
       "<div style=\"width:100%;\"><div style=\"position:relative;width:100%;height:0;padding-bottom:60%;\"><iframe src=\"about:blank\" style=\"position:absolute;width:100%;height:100%;left:0;top:0;border:none !important;\" data-html=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 onload=\"this.contentDocument.open();this.contentDocument.write(atob(this.getAttribute('data-html')));this.contentDocument.close();\" allowfullscreen webkitallowfullscreen mozallowfullscreen></iframe></div></div>"
      ],
      "text/plain": [
       "<folium.folium.Map at 0x20fa4b9fac8>"
      ]
     },
     "execution_count": 29,
     "metadata": {},
     "output_type": "execute_result"
    }
   ],
   "source": [
    "import folium\n",
    "# create map of Toronto using latitude and longitude values\n",
    "map_toronto = folium.Map(location=[latitude, longitude], zoom_start=10)\n",
    "\n",
    "# add markers to map\n",
    "for lat, lng, borough, neighborhood in zip(data2['Latitude'], data2['Longitude'], data2['Borough'], data2['Neighborhood']):\n",
    "    label = '{}, {}'.format(neighborhood, borough)\n",
    "    label = folium.Popup(label, parse_html=True)\n",
    "    folium.CircleMarker(\n",
    "        [lat, lng],\n",
    "        radius=5,\n",
    "        popup=label,\n",
    "        color='blue',\n",
    "        fill=True,\n",
    "        fill_color='#3186cc',\n",
    "        fill_opacity=0.7,\n",
    "        parse_html=False).add_to(map_toronto)  \n",
    "    \n",
    "map_toronto"
   ]
  },
  {
   "cell_type": "code",
   "execution_count": null,
   "metadata": {},
   "outputs": [],
   "source": []
  }
 ],
 "metadata": {
  "kernelspec": {
   "display_name": "Python 3",
   "language": "python",
   "name": "python3"
  },
  "language_info": {
   "codemirror_mode": {
    "name": "ipython",
    "version": 3
   },
   "file_extension": ".py",
   "mimetype": "text/x-python",
   "name": "python",
   "nbconvert_exporter": "python",
   "pygments_lexer": "ipython3",
   "version": "3.7.4"
  },
  "toc": {
   "base_numbering": 1,
   "nav_menu": {},
   "number_sections": false,
   "sideBar": true,
   "skip_h1_title": false,
   "title_cell": "Table of Contents",
   "title_sidebar": "Contents",
   "toc_cell": false,
   "toc_position": {},
   "toc_section_display": true,
   "toc_window_display": false
  }
 },
 "nbformat": 4,
 "nbformat_minor": 2
}
